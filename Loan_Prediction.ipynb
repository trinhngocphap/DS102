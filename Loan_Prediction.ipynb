{
  "nbformat": 4,
  "nbformat_minor": 0,
  "metadata": {
    "colab": {
      "name": "Loan_Prediction.ipynb",
      "provenance": [],
      "toc_visible": true
    },
    "kernelspec": {
      "name": "python3",
      "display_name": "Python 3"
    }
  },
  "cells": [
    {
      "cell_type": "markdown",
      "metadata": {
        "id": "qj6Yru1DtleI",
        "colab_type": "text"
      },
      "source": [
        "# <a name=\"\">**1. Introduction**</a>\n",
        "**Loan Prediction** - dự đoán cho vay là một bài toán phân loại nhị phân về khả năng phê duyệt khoản vay của một ngân hàng đối với các khách hàng dựa vào các thông tin của khách hàng đó, với 2 nhãn cần phân loại: Y - khoản vay được phê duyệt, N - khoản vay không được phê duyệt.  "
      ]
    },
    {
      "cell_type": "markdown",
      "metadata": {
        "id": "GYLfXYRUiL4L",
        "colab_type": "text"
      },
      "source": [
        "# <a name=\"\">**2. Importing libraries and Loading the dataset**</a>\n",
        "Nhập các thư viện cần thiết và đọc dữ liệu từ github."
      ]
    },
    {
      "cell_type": "markdown",
      "metadata": {
        "id": "xB31RDIaurN5",
        "colab_type": "text"
      },
      "source": [
        "## **Importing Libraries**"
      ]
    },
    {
      "cell_type": "code",
      "metadata": {
        "id": "Sq1KC4GpuozO",
        "colab_type": "code",
        "colab": {}
      },
      "source": [
        "# import libraries\n",
        "%matplotlib inline\n",
        "import numpy as np\n",
        "import pandas as pd\n",
        "import matplotlib.pyplot as plt\n",
        "import seaborn as sns\n",
        "import warnings\n",
        "warnings.filterwarnings(\"ignore\")"
      ],
      "execution_count": 84,
      "outputs": []
    },
    {
      "cell_type": "markdown",
      "metadata": {
        "id": "dO2JL6jDwUUK",
        "colab_type": "text"
      },
      "source": [
        "## **Loading Dataset**"
      ]
    },
    {
      "cell_type": "code",
      "metadata": {
        "id": "Sg40JI5tak_g",
        "colab_type": "code",
        "colab": {
          "base_uri": "https://localhost:8080/",
          "height": 67
        },
        "outputId": "a57b53be-6912-416f-a8a2-7a9cbc85aaa0"
      },
      "source": [
        "# clone Github repository\n",
        "!git clone https://github.com/trinhngocphap/DS102.git\n",
        "!ls DS102/"
      ],
      "execution_count": 85,
      "outputs": [
        {
          "output_type": "stream",
          "text": [
            "fatal: destination path 'DS102' already exists and is not an empty directory.\n",
            "datasets_137197_325031_test_Y3wMUE5_7gLdaTN.csv\n",
            "datasets_137197_325031_train_u6lujuX_CVtuZ9i.csv\n"
          ],
          "name": "stdout"
        }
      ]
    },
    {
      "cell_type": "code",
      "metadata": {
        "id": "4tHDpQqEn5DU",
        "colab_type": "code",
        "colab": {}
      },
      "source": [
        "# load the train and test dataset\n",
        "train = pd.read_csv('DS102/datasets_137197_325031_train_u6lujuX_CVtuZ9i.csv')\n",
        "test = pd.read_csv('DS102/datasets_137197_325031_test_Y3wMUE5_7gLdaTN.csv')"
      ],
      "execution_count": 86,
      "outputs": []
    },
    {
      "cell_type": "code",
      "metadata": {
        "id": "ZlXzdDFjduyv",
        "colab_type": "code",
        "colab": {}
      },
      "source": [
        "# make a copy of original data\n",
        "# so that even if we have to make any changes in these datasets we would not lose the original datasets\n",
        "train_original = train.copy()\n",
        "test_original = test.copy()"
      ],
      "execution_count": 87,
      "outputs": []
    },
    {
      "cell_type": "markdown",
      "metadata": {
        "id": "WLKCMAV96Ail",
        "colab_type": "text"
      },
      "source": [
        "# <a name=\"\">**3. Exploratory Data Analysis (EDA)**</a>\n",
        "Phân tích dữ liệu khám phá (Exploratory Data Analysis) là một phương pháp phân tích dữ liệu để tóm tắt các đặc điểm chính của các thuộc tính trong bộ dữ liệu, bằng cách sử dụng các phương pháp trực quan hoá. "
      ]
    },
    {
      "cell_type": "code",
      "metadata": {
        "id": "xeJi8u0RzN0g",
        "colab_type": "code",
        "colab": {
          "base_uri": "https://localhost:8080/",
          "height": 232
        },
        "outputId": "e7f7b033-4af6-4396-9fb2-cfe1170f555d"
      },
      "source": [
        "# take a look at the top 5 rows of the train set, notice the column \"Loan_Status\"\n",
        "train.head()"
      ],
      "execution_count": 88,
      "outputs": [
        {
          "output_type": "execute_result",
          "data": {
            "text/html": [
              "<div>\n",
              "<style scoped>\n",
              "    .dataframe tbody tr th:only-of-type {\n",
              "        vertical-align: middle;\n",
              "    }\n",
              "\n",
              "    .dataframe tbody tr th {\n",
              "        vertical-align: top;\n",
              "    }\n",
              "\n",
              "    .dataframe thead th {\n",
              "        text-align: right;\n",
              "    }\n",
              "</style>\n",
              "<table border=\"1\" class=\"dataframe\">\n",
              "  <thead>\n",
              "    <tr style=\"text-align: right;\">\n",
              "      <th></th>\n",
              "      <th>Loan_ID</th>\n",
              "      <th>Gender</th>\n",
              "      <th>Married</th>\n",
              "      <th>Dependents</th>\n",
              "      <th>Education</th>\n",
              "      <th>Self_Employed</th>\n",
              "      <th>ApplicantIncome</th>\n",
              "      <th>CoapplicantIncome</th>\n",
              "      <th>LoanAmount</th>\n",
              "      <th>Loan_Amount_Term</th>\n",
              "      <th>Credit_History</th>\n",
              "      <th>Property_Area</th>\n",
              "      <th>Loan_Status</th>\n",
              "    </tr>\n",
              "  </thead>\n",
              "  <tbody>\n",
              "    <tr>\n",
              "      <th>0</th>\n",
              "      <td>LP001002</td>\n",
              "      <td>Male</td>\n",
              "      <td>No</td>\n",
              "      <td>0</td>\n",
              "      <td>Graduate</td>\n",
              "      <td>No</td>\n",
              "      <td>5849</td>\n",
              "      <td>0.0</td>\n",
              "      <td>NaN</td>\n",
              "      <td>360.0</td>\n",
              "      <td>1.0</td>\n",
              "      <td>Urban</td>\n",
              "      <td>Y</td>\n",
              "    </tr>\n",
              "    <tr>\n",
              "      <th>1</th>\n",
              "      <td>LP001003</td>\n",
              "      <td>Male</td>\n",
              "      <td>Yes</td>\n",
              "      <td>1</td>\n",
              "      <td>Graduate</td>\n",
              "      <td>No</td>\n",
              "      <td>4583</td>\n",
              "      <td>1508.0</td>\n",
              "      <td>128.0</td>\n",
              "      <td>360.0</td>\n",
              "      <td>1.0</td>\n",
              "      <td>Rural</td>\n",
              "      <td>N</td>\n",
              "    </tr>\n",
              "    <tr>\n",
              "      <th>2</th>\n",
              "      <td>LP001005</td>\n",
              "      <td>Male</td>\n",
              "      <td>Yes</td>\n",
              "      <td>0</td>\n",
              "      <td>Graduate</td>\n",
              "      <td>Yes</td>\n",
              "      <td>3000</td>\n",
              "      <td>0.0</td>\n",
              "      <td>66.0</td>\n",
              "      <td>360.0</td>\n",
              "      <td>1.0</td>\n",
              "      <td>Urban</td>\n",
              "      <td>Y</td>\n",
              "    </tr>\n",
              "    <tr>\n",
              "      <th>3</th>\n",
              "      <td>LP001006</td>\n",
              "      <td>Male</td>\n",
              "      <td>Yes</td>\n",
              "      <td>0</td>\n",
              "      <td>Not Graduate</td>\n",
              "      <td>No</td>\n",
              "      <td>2583</td>\n",
              "      <td>2358.0</td>\n",
              "      <td>120.0</td>\n",
              "      <td>360.0</td>\n",
              "      <td>1.0</td>\n",
              "      <td>Urban</td>\n",
              "      <td>Y</td>\n",
              "    </tr>\n",
              "    <tr>\n",
              "      <th>4</th>\n",
              "      <td>LP001008</td>\n",
              "      <td>Male</td>\n",
              "      <td>No</td>\n",
              "      <td>0</td>\n",
              "      <td>Graduate</td>\n",
              "      <td>No</td>\n",
              "      <td>6000</td>\n",
              "      <td>0.0</td>\n",
              "      <td>141.0</td>\n",
              "      <td>360.0</td>\n",
              "      <td>1.0</td>\n",
              "      <td>Urban</td>\n",
              "      <td>Y</td>\n",
              "    </tr>\n",
              "  </tbody>\n",
              "</table>\n",
              "</div>"
            ],
            "text/plain": [
              "    Loan_ID Gender Married  ... Credit_History Property_Area Loan_Status\n",
              "0  LP001002   Male      No  ...            1.0         Urban           Y\n",
              "1  LP001003   Male     Yes  ...            1.0         Rural           N\n",
              "2  LP001005   Male     Yes  ...            1.0         Urban           Y\n",
              "3  LP001006   Male     Yes  ...            1.0         Urban           Y\n",
              "4  LP001008   Male      No  ...            1.0         Urban           Y\n",
              "\n",
              "[5 rows x 13 columns]"
            ]
          },
          "metadata": {
            "tags": []
          },
          "execution_count": 88
        }
      ]
    },
    {
      "cell_type": "code",
      "metadata": {
        "id": "kkxRh0rLzO-N",
        "colab_type": "code",
        "colab": {
          "base_uri": "https://localhost:8080/",
          "height": 232
        },
        "outputId": "8410f6af-9c8f-4d83-92c5-b03272c86995"
      },
      "source": [
        "# take a look at the top 5 rows of the test set, notice the absense of \"Loan_Status\" that we will predict\n",
        "test.head()"
      ],
      "execution_count": 89,
      "outputs": [
        {
          "output_type": "execute_result",
          "data": {
            "text/html": [
              "<div>\n",
              "<style scoped>\n",
              "    .dataframe tbody tr th:only-of-type {\n",
              "        vertical-align: middle;\n",
              "    }\n",
              "\n",
              "    .dataframe tbody tr th {\n",
              "        vertical-align: top;\n",
              "    }\n",
              "\n",
              "    .dataframe thead th {\n",
              "        text-align: right;\n",
              "    }\n",
              "</style>\n",
              "<table border=\"1\" class=\"dataframe\">\n",
              "  <thead>\n",
              "    <tr style=\"text-align: right;\">\n",
              "      <th></th>\n",
              "      <th>Loan_ID</th>\n",
              "      <th>Gender</th>\n",
              "      <th>Married</th>\n",
              "      <th>Dependents</th>\n",
              "      <th>Education</th>\n",
              "      <th>Self_Employed</th>\n",
              "      <th>ApplicantIncome</th>\n",
              "      <th>CoapplicantIncome</th>\n",
              "      <th>LoanAmount</th>\n",
              "      <th>Loan_Amount_Term</th>\n",
              "      <th>Credit_History</th>\n",
              "      <th>Property_Area</th>\n",
              "    </tr>\n",
              "  </thead>\n",
              "  <tbody>\n",
              "    <tr>\n",
              "      <th>0</th>\n",
              "      <td>LP001015</td>\n",
              "      <td>Male</td>\n",
              "      <td>Yes</td>\n",
              "      <td>0</td>\n",
              "      <td>Graduate</td>\n",
              "      <td>No</td>\n",
              "      <td>5720</td>\n",
              "      <td>0</td>\n",
              "      <td>110.0</td>\n",
              "      <td>360.0</td>\n",
              "      <td>1.0</td>\n",
              "      <td>Urban</td>\n",
              "    </tr>\n",
              "    <tr>\n",
              "      <th>1</th>\n",
              "      <td>LP001022</td>\n",
              "      <td>Male</td>\n",
              "      <td>Yes</td>\n",
              "      <td>1</td>\n",
              "      <td>Graduate</td>\n",
              "      <td>No</td>\n",
              "      <td>3076</td>\n",
              "      <td>1500</td>\n",
              "      <td>126.0</td>\n",
              "      <td>360.0</td>\n",
              "      <td>1.0</td>\n",
              "      <td>Urban</td>\n",
              "    </tr>\n",
              "    <tr>\n",
              "      <th>2</th>\n",
              "      <td>LP001031</td>\n",
              "      <td>Male</td>\n",
              "      <td>Yes</td>\n",
              "      <td>2</td>\n",
              "      <td>Graduate</td>\n",
              "      <td>No</td>\n",
              "      <td>5000</td>\n",
              "      <td>1800</td>\n",
              "      <td>208.0</td>\n",
              "      <td>360.0</td>\n",
              "      <td>1.0</td>\n",
              "      <td>Urban</td>\n",
              "    </tr>\n",
              "    <tr>\n",
              "      <th>3</th>\n",
              "      <td>LP001035</td>\n",
              "      <td>Male</td>\n",
              "      <td>Yes</td>\n",
              "      <td>2</td>\n",
              "      <td>Graduate</td>\n",
              "      <td>No</td>\n",
              "      <td>2340</td>\n",
              "      <td>2546</td>\n",
              "      <td>100.0</td>\n",
              "      <td>360.0</td>\n",
              "      <td>NaN</td>\n",
              "      <td>Urban</td>\n",
              "    </tr>\n",
              "    <tr>\n",
              "      <th>4</th>\n",
              "      <td>LP001051</td>\n",
              "      <td>Male</td>\n",
              "      <td>No</td>\n",
              "      <td>0</td>\n",
              "      <td>Not Graduate</td>\n",
              "      <td>No</td>\n",
              "      <td>3276</td>\n",
              "      <td>0</td>\n",
              "      <td>78.0</td>\n",
              "      <td>360.0</td>\n",
              "      <td>1.0</td>\n",
              "      <td>Urban</td>\n",
              "    </tr>\n",
              "  </tbody>\n",
              "</table>\n",
              "</div>"
            ],
            "text/plain": [
              "    Loan_ID Gender Married  ... Loan_Amount_Term Credit_History Property_Area\n",
              "0  LP001015   Male     Yes  ...            360.0            1.0         Urban\n",
              "1  LP001022   Male     Yes  ...            360.0            1.0         Urban\n",
              "2  LP001031   Male     Yes  ...            360.0            1.0         Urban\n",
              "3  LP001035   Male     Yes  ...            360.0            NaN         Urban\n",
              "4  LP001051   Male      No  ...            360.0            1.0         Urban\n",
              "\n",
              "[5 rows x 12 columns]"
            ]
          },
          "metadata": {
            "tags": []
          },
          "execution_count": 89
        }
      ]
    },
    {
      "cell_type": "code",
      "metadata": {
        "id": "92NgkgG92jI6",
        "colab_type": "code",
        "colab": {
          "base_uri": "https://localhost:8080/",
          "height": 34
        },
        "outputId": "201960d8-dcfc-40c6-bf0b-1a43a91527e0"
      },
      "source": [
        "# show the shape of the dataset i.e. no of rows, no of columns\n",
        "train.shape, test.shape"
      ],
      "execution_count": 90,
      "outputs": [
        {
          "output_type": "execute_result",
          "data": {
            "text/plain": [
              "((614, 13), (367, 12))"
            ]
          },
          "metadata": {
            "tags": []
          },
          "execution_count": 90
        }
      ]
    },
    {
      "cell_type": "code",
      "metadata": {
        "id": "TOW8VB4c22YV",
        "colab_type": "code",
        "colab": {
          "base_uri": "https://localhost:8080/",
          "height": 34
        },
        "outputId": "1adb54b6-7860-45b8-f593-c7d6bdd95af9"
      },
      "source": [
        "# calculate train-test-split ratio\n",
        "train.shape[0]/(train.shape[0]+test.shape[0]), test.shape[0]/(train.shape[0]+test.shape[0])"
      ],
      "execution_count": 91,
      "outputs": [
        {
          "output_type": "execute_result",
          "data": {
            "text/plain": [
              "(0.6258919469928644, 0.37410805300713557)"
            ]
          },
          "metadata": {
            "tags": []
          },
          "execution_count": 91
        }
      ]
    },
    {
      "cell_type": "code",
      "metadata": {
        "id": "ptYMGxsz28Xp",
        "colab_type": "code",
        "colab": {
          "base_uri": "https://localhost:8080/",
          "height": 151
        },
        "outputId": "1ad24f26-bf54-43d9-d1ef-432caacc49b4"
      },
      "source": [
        "# take a look at the features in the dataset\n",
        "train.columns, test.columns"
      ],
      "execution_count": 92,
      "outputs": [
        {
          "output_type": "execute_result",
          "data": {
            "text/plain": [
              "(Index(['Loan_ID', 'Gender', 'Married', 'Dependents', 'Education',\n",
              "        'Self_Employed', 'ApplicantIncome', 'CoapplicantIncome', 'LoanAmount',\n",
              "        'Loan_Amount_Term', 'Credit_History', 'Property_Area', 'Loan_Status'],\n",
              "       dtype='object'),\n",
              " Index(['Loan_ID', 'Gender', 'Married', 'Dependents', 'Education',\n",
              "        'Self_Employed', 'ApplicantIncome', 'CoapplicantIncome', 'LoanAmount',\n",
              "        'Loan_Amount_Term', 'Credit_History', 'Property_Area'],\n",
              "       dtype='object'))"
            ]
          },
          "metadata": {
            "tags": []
          },
          "execution_count": 92
        }
      ]
    },
    {
      "cell_type": "markdown",
      "metadata": {
        "id": "44DYgVA73waI",
        "colab_type": "text"
      },
      "source": [
        "**Nhận xét:** Có 13 thuộc tính và 614 điểm dữ liệu trong tập train, 12 thuộc tính và 367 điểm dữ liệu trong tập test. Tổng cộng 981 điểm dữ liệu trong cả 2 tập và tỉ lệ train-test tương ứng là khoảng 63%-27%. Các thuộc tính đều giống nhau ở tập train và tập test ngoại trừ thuộc tính Loan_Status bị thiếu ở tập test. Chúng ta sẽ xây dựng mô hình dự đoán Loan_Status."
      ]
    },
    {
      "cell_type": "code",
      "metadata": {
        "id": "3nCxypSt5zTt",
        "colab_type": "code",
        "colab": {
          "base_uri": "https://localhost:8080/",
          "height": 252
        },
        "outputId": "bf8e8663-b5bc-407a-c439-244cdc01fba7"
      },
      "source": [
        "# show the data types for each column of the train set\n",
        "train.dtypes"
      ],
      "execution_count": 93,
      "outputs": [
        {
          "output_type": "execute_result",
          "data": {
            "text/plain": [
              "Loan_ID               object\n",
              "Gender                object\n",
              "Married               object\n",
              "Dependents            object\n",
              "Education             object\n",
              "Self_Employed         object\n",
              "ApplicantIncome        int64\n",
              "CoapplicantIncome    float64\n",
              "LoanAmount           float64\n",
              "Loan_Amount_Term     float64\n",
              "Credit_History       float64\n",
              "Property_Area         object\n",
              "Loan_Status           object\n",
              "dtype: object"
            ]
          },
          "metadata": {
            "tags": []
          },
          "execution_count": 93
        }
      ]
    },
    {
      "cell_type": "code",
      "metadata": {
        "id": "eJZnytjDHlE0",
        "colab_type": "code",
        "colab": {
          "base_uri": "https://localhost:8080/",
          "height": 353
        },
        "outputId": "cc2bfc45-9a0a-40bb-fe84-30c469517be8"
      },
      "source": [
        "# summary of the dataset, info about index dtype, column dtypes, non-null values and memory usage\n",
        "train.info()"
      ],
      "execution_count": 94,
      "outputs": [
        {
          "output_type": "stream",
          "text": [
            "<class 'pandas.core.frame.DataFrame'>\n",
            "RangeIndex: 614 entries, 0 to 613\n",
            "Data columns (total 13 columns):\n",
            " #   Column             Non-Null Count  Dtype  \n",
            "---  ------             --------------  -----  \n",
            " 0   Loan_ID            614 non-null    object \n",
            " 1   Gender             601 non-null    object \n",
            " 2   Married            611 non-null    object \n",
            " 3   Dependents         599 non-null    object \n",
            " 4   Education          614 non-null    object \n",
            " 5   Self_Employed      582 non-null    object \n",
            " 6   ApplicantIncome    614 non-null    int64  \n",
            " 7   CoapplicantIncome  614 non-null    float64\n",
            " 8   LoanAmount         592 non-null    float64\n",
            " 9   Loan_Amount_Term   600 non-null    float64\n",
            " 10  Credit_History     564 non-null    float64\n",
            " 11  Property_Area      614 non-null    object \n",
            " 12  Loan_Status        614 non-null    object \n",
            "dtypes: float64(4), int64(1), object(8)\n",
            "memory usage: 62.5+ KB\n"
          ],
          "name": "stdout"
        }
      ]
    },
    {
      "cell_type": "markdown",
      "metadata": {
        "id": "qBqt79OQIEz9",
        "colab_type": "text"
      },
      "source": [
        "**Nhận xét:** Bộ dữ liệu của chúng ta gồm có 3 kiểu dữ liệu:\n",
        "\n",
        "*   object: đại diện cho các biến phân loại (categorical variables). Các biến phân loại (categorical variables) trong bộ dữ liệu bao gồm: Loan_ID, Gender, Married, Dependents, Education, Self_Employed, Property_Area, Loan_Status.\n",
        "*   int64: đại diện cho các biến có giá trị nguyên (numerical variables). ApplicantIncome thuộc định dạng này.\n",
        "*   float64: đại diện cho các biến có giá trị thập phân (numerical variables). Các biến thuộc định dạng này bao gồm: CoapplicantIncome, LoanAmount, Loan_Amount_Term, and Credit_History.\n",
        "\n",
        "\n",
        "\n",
        "\n"
      ]
    },
    {
      "cell_type": "markdown",
      "metadata": {
        "id": "ntlvPEPLNak0",
        "colab_type": "text"
      },
      "source": [
        "## **Univariate Analysis**\n",
        "Phân tích đơn biến (Univariate analysis) là ta tiến hành phân tích từng biến riêng lẻ. Đối với các biến phân loại (categorical variables) ta sẽ sử dụng frequency table hoặc bar plot để tính toán số lượng từng loại trong biến đó. Đối với biến số (numerical variables) ta sẽ sử dụng histogram hoặc box plot để xem xét dạng phân phối đồ thị của biến đó. Với histogram, ta có thể kiểm tra xu hướng trung tâm, sự biến đổi, phương thức của phân phối các giá trị. Chú ý rằng histogram không thể biểu diễn được các ngoại lệ, do đó chúng ta sử dụng box plot để biểu diễn chúng."
      ]
    },
    {
      "cell_type": "markdown",
      "metadata": {
        "id": "fOxitMn8G3Ns",
        "colab_type": "text"
      },
      "source": [
        "### **Target Variable**\n",
        "Đầu tiên chúng ta xem xét biến mục tiêu (target variable) là Loan_Status. Nó thuộc biến phân loại (categorical variables), chúng ta sẽ quan sát frequency table, percentage distribution và bar plot."
      ]
    },
    {
      "cell_type": "code",
      "metadata": {
        "id": "kbCu7HXdGqbU",
        "colab_type": "code",
        "colab": {
          "base_uri": "https://localhost:8080/",
          "height": 67
        },
        "outputId": "41321007-01c0-4b74-9e8e-72590b410f6c"
      },
      "source": [
        "# frequency table of a variable will give us the count of each category in that variable\n",
        "train['Loan_Status'].value_counts()"
      ],
      "execution_count": 95,
      "outputs": [
        {
          "output_type": "execute_result",
          "data": {
            "text/plain": [
              "Y    422\n",
              "N    192\n",
              "Name: Loan_Status, dtype: int64"
            ]
          },
          "metadata": {
            "tags": []
          },
          "execution_count": 95
        }
      ]
    },
    {
      "cell_type": "code",
      "metadata": {
        "id": "4WlQNrerGrfq",
        "colab_type": "code",
        "colab": {
          "base_uri": "https://localhost:8080/",
          "height": 67
        },
        "outputId": "7cd5ec5d-1cc2-43b1-e8bc-0ef4f364e498"
      },
      "source": [
        "# percentage distribution can be calculated by setting the normalize=True to show proportions instead of number \n",
        "train['Loan_Status'].value_counts(normalize=True)"
      ],
      "execution_count": 96,
      "outputs": [
        {
          "output_type": "execute_result",
          "data": {
            "text/plain": [
              "Y    0.687296\n",
              "N    0.312704\n",
              "Name: Loan_Status, dtype: float64"
            ]
          },
          "metadata": {
            "tags": []
          },
          "execution_count": 96
        }
      ]
    },
    {
      "cell_type": "code",
      "metadata": {
        "id": "uAUvnxXIGueE",
        "colab_type": "code",
        "colab": {
          "base_uri": "https://localhost:8080/",
          "height": 295
        },
        "outputId": "56694369-f513-40d3-a9e1-24a4f463b71b"
      },
      "source": [
        "# bar plot to visualize the frequency\n",
        "my_color = ['tab:blue', 'tab:orange', 'tab:green', 'tab:red', 'tab:purple']\n",
        "train['Loan_Status'].value_counts().plot.bar(color=my_color)\n",
        "plt.xlabel('Loan_Status')\n",
        "plt.ylabel('Number of observations')"
      ],
      "execution_count": 97,
      "outputs": [
        {
          "output_type": "execute_result",
          "data": {
            "text/plain": [
              "Text(0, 0.5, 'Number of observations')"
            ]
          },
          "metadata": {
            "tags": []
          },
          "execution_count": 97
        },
        {
          "output_type": "display_data",
          "data": {
            "image/png": "[encoded data removed]",
            "text/plain": [
              "<Figure size 432x288 with 1 Axes>"
            ]
          },
          "metadata": {
            "tags": [],
            "needs_background": "light"
          }
        }
      ]
    },
    {
      "cell_type": "markdown",
      "metadata": {
        "id": "XUaBuURIK0j3",
        "colab_type": "text"
      },
      "source": [
        "Số khoản vay được phê duyệt (Y) và không được phê duyệt (N) là 422 - 192 (69% - 31%), điều đó cho thấy bộ dữ liệu không cân bằng, ta cần phải đánh giá mô hình bằng độ đo thích hợp."
      ]
    },
    {
      "cell_type": "markdown",
      "metadata": {
        "id": "NWODYdis9IWu",
        "colab_type": "text"
      },
      "source": [
        "### **Categorical Independent Variable**\n",
        "Bộ dữ liệu có 5 biến độc lập phân loại (categorical independent variables) bao gồm: Gender, Married, Self_Employed, Credit_History, Education. Ta quan sát bar plot của các biến trên tập train."
      ]
    },
    {
      "cell_type": "code",
      "metadata": {
        "id": "_dzPixsu9sga",
        "colab_type": "code",
        "colab": {
          "base_uri": "https://localhost:8080/",
          "height": 637
        },
        "outputId": "d0355294-94e0-4b15-aa96-6ae8f846a267"
      },
      "source": [
        "# visualizing categorical features\n",
        "plt.subplot(231)\n",
        "train['Gender'].value_counts(normalize=True).plot.bar(figsize=(20,10), title='Gender', color=my_color)\n",
        "plt.ylabel('Percentage')\n",
        "\n",
        "plt.subplot(232)\n",
        "train['Married'].value_counts(normalize=True).plot.bar(title='Married', color=my_color)\n",
        "\n",
        "plt.subplot(233)\n",
        "train['Self_Employed'].value_counts(normalize=True).plot.bar(title='Self_Employed', color=my_color)\n",
        "\n",
        "plt.subplot(234)\n",
        "train['Credit_History'].value_counts(normalize=True).plot.bar(title='Credit_History', color=my_color)\n",
        "plt.ylabel('Percentage')\n",
        "\n",
        "plt.subplot(235)\n",
        "train['Education'].value_counts(normalize=True).plot.bar(title='Education', color=my_color)\n",
        "\n",
        "plt.show()"
      ],
      "execution_count": 98,
      "outputs": [
        {
          "output_type": "display_data",
          "data": {
            "image/png": "[encoded data removed]",
            "text/plain": [
              "<Figure size 1440x720 with 5 Axes>"
            ]
          },
          "metadata": {
            "tags": [],
            "needs_background": "light"
          }
        }
      ]
    },
    {
      "cell_type": "markdown",
      "metadata": {
        "id": "cWGJ-Hpp-f_V",
        "colab_type": "text"
      },
      "source": [
        "Từ hình trên có thể suy ra:\n",
        "* 80% các ứng viên là nam giới (Gender: Male);\n",
        "* Khoảng 65% các ứng viên đã kết hôn (Married: Yes);\n",
        "* Khoảng 15% các ứng viên kinh doanh tự do (Self_Employed: Yes);\n",
        "* Khoảng 85% các ứng viên có lịch sử tín dụng (Credit_history: 1.0);\n",
        "* Khoảng 80% các ứng viên đã tốt nghiệp (Education: Graduate).\n",
        "\n",
        "\n"
      ]
    },
    {
      "cell_type": "markdown",
      "metadata": {
        "id": "eowqbdz8AcvM",
        "colab_type": "text"
      },
      "source": [
        "### **Ordinal Independent Variable**\n",
        "Bộ dữ liệu có 2 biến độc lập loại phân loại có cấp bập (ordinal independent variables) bao gồm: Dependents, Property_Area. Ta quan sát bar plot của các biến trên tập train."
      ]
    },
    {
      "cell_type": "code",
      "metadata": {
        "id": "L2Tm1CngA4B4",
        "colab_type": "code",
        "colab": {
          "base_uri": "https://localhost:8080/",
          "height": 380
        },
        "outputId": "470f3269-a5a4-47b2-e2eb-d6b0b1022232"
      },
      "source": [
        "# visualizing remaining categorical features\n",
        "plt.subplot(121)\n",
        "train['Dependents'].value_counts(normalize=True).plot.bar(figsize=(12,5), title='Dependents', color=my_color)\n",
        "plt.ylabel('Percentage')\n",
        "\n",
        "plt.subplot(122)\n",
        "train['Property_Area'].value_counts(normalize=True).plot.bar(title='Property_Area', color=my_color)\n",
        "\n",
        "plt.show()"
      ],
      "execution_count": 99,
      "outputs": [
        {
          "output_type": "display_data",
          "data": {
            "image/png": "[encoded data removed]",
            "text/plain": [
              "<Figure size 864x360 with 2 Axes>"
            ]
          },
          "metadata": {
            "tags": [],
            "needs_background": "light"
          }
        }
      ]
    },
    {
      "cell_type": "markdown",
      "metadata": {
        "id": "lwE3ROw5CYzX",
        "colab_type": "text"
      },
      "source": [
        "Từ hình trên có thể suy ra:\n",
        "*\tPhần lớn các ứng viên không có bất kì người phụ thuộc nào (Dependents: 0);\n",
        "*\tSố lượng ứng viên trong mỗi khu vực tương đối đồng đều, cao nhất là ngoại thành (Property_Area: Semiurban).\n",
        "\n",
        "\n"
      ]
    },
    {
      "cell_type": "markdown",
      "metadata": {
        "id": "s1_M1QF6Dwdu",
        "colab_type": "text"
      },
      "source": [
        "### **Numerical Independent Variable**\n",
        "Bộ dữ liệu có 4 biến độc lập dạng số (numerical independent variables) bao gồm: ApplicantIncome, CoapplicantIncome, LoanAmount, Loan_Amount_Term. Ta sẽ lần lượt phân tích từng biến.\n",
        "\n",
        "Đầu tiên, chúng ta quan sát sự phân phối và box plot của biến ApplicantIncome.\n"
      ]
    },
    {
      "cell_type": "code",
      "metadata": {
        "id": "nUjzW4ivESwu",
        "colab_type": "code",
        "colab": {
          "base_uri": "https://localhost:8080/",
          "height": 334
        },
        "outputId": "6991c9cf-e9fa-4277-9883-10a305f1f3aa"
      },
      "source": [
        "# visualizing ApplicantIncome\n",
        "plt.subplot(121)\n",
        "sns.distplot(train['ApplicantIncome']);\n",
        "\n",
        "plt.subplot(122)\n",
        "train['ApplicantIncome'].plot.box(figsize=(16,5))\n",
        "\n",
        "plt.show()"
      ],
      "execution_count": 100,
      "outputs": [
        {
          "output_type": "display_data",
          "data": {
            "image/png": "[encoded data removed]",
            "text/plain": [
              "<Figure size 1152x360 with 2 Axes>"
            ]
          },
          "metadata": {
            "tags": [],
            "needs_background": "light"
          }
        }
      ]
    },
    {
      "cell_type": "markdown",
      "metadata": {
        "id": "fCU8esIHENf3",
        "colab_type": "text"
      },
      "source": [
        "Ta có thể thấy hầu hết các dữ liệu trong phân phối của biến ApplicantIncome đều hướng về bên trái, điều đó có nghĩa là đây không phải là dạng phân phối chuẩn. Phân phối bị lệch phải (lệch dương). Chúng ta sẽ đưa nó về dạng phân phối chuẩn ở phần sau vì mô hình sẽ hoạt động tốt hơn khi dữ liệu tuân theo phân phối chuẩn. Box plot cho ta thấy có rất nhiều ngoại lệ trong dữ liệu của biến ApplicantIncome. Điều này có thể quy cho việc chênh lệch về thu nhập trong xã hội, một phần do trình độ học vấn khác nhau. \n",
        "\n",
        "Chúng ta tiếp tục phân tích ApplicantIncome thông qua Education.\n"
      ]
    },
    {
      "cell_type": "code",
      "metadata": {
        "id": "MXVMWHBmG6v2",
        "colab_type": "code",
        "colab": {
          "base_uri": "https://localhost:8080/",
          "height": 311
        },
        "outputId": "e9fe7726-8501-418f-9da9-2f4b4b607e66"
      },
      "source": [
        "train.boxplot(column='ApplicantIncome', by='Education')\n",
        "plt.suptitle(\"\")"
      ],
      "execution_count": 101,
      "outputs": [
        {
          "output_type": "execute_result",
          "data": {
            "text/plain": [
              "Text(0.5, 0.98, '')"
            ]
          },
          "metadata": {
            "tags": []
          },
          "execution_count": 101
        },
        {
          "output_type": "display_data",
          "data": {
            "image/png": "[encoded data removed]",
            "text/plain": [
              "<Figure size 432x288 with 1 Axes>"
            ]
          },
          "metadata": {
            "tags": [],
            "needs_background": "light"
          }
        }
      ]
    },
    {
      "cell_type": "markdown",
      "metadata": {
        "id": "TJ-yJmR7HZ0_",
        "colab_type": "text"
      },
      "source": [
        "Ta có thể thấy có rất nhiều các ứng viên đã có bằng tốt nghiệp có thu nhập (ApplicantIncome) rất cao, nguyên nhân gây ra các ngoại lệ. Còn các ứng viên chưa tốt nghiệp thì rất ít các ngoại lệ.\n",
        "\n",
        "Tiếp theo, ta quan sát biểu đồ phân phối và box plot của CoapplicantIncome."
      ]
    },
    {
      "cell_type": "code",
      "metadata": {
        "id": "HdKusms0W68G",
        "colab_type": "code",
        "colab": {
          "base_uri": "https://localhost:8080/",
          "height": 334
        },
        "outputId": "fed4b93d-db34-46fa-fd57-bb4d2d1c1aaa"
      },
      "source": [
        "# visualizing CoapplicantIncome\n",
        "plt.subplot(121)\n",
        "sns.distplot(train['CoapplicantIncome'])\n",
        "\n",
        "plt.subplot(122)\n",
        "train['CoapplicantIncome'].plot.box(figsize=(16,5))\n",
        "\n",
        "plt.show()"
      ],
      "execution_count": 102,
      "outputs": [
        {
          "output_type": "display_data",
          "data": {
            "image/png": "[encoded data removed]",
            "text/plain": [
              "<Figure size 1152x360 with 2 Axes>"
            ]
          },
          "metadata": {
            "tags": [],
            "needs_background": "light"
          }
        }
      ]
    },
    {
      "cell_type": "markdown",
      "metadata": {
        "id": "DHFejjFeX_yF",
        "colab_type": "text"
      },
      "source": [
        "Ta có thế thấy phân phối của CoapplicantIncome khá giống với ApplicantIncome, không phải là phân phối chuẩn, bị lệch phải (lệch dương) và box plot cũng cho thấy nhiều giá trị ngoại lệ.\n",
        "\n",
        "Ta tiếp tục  với biến LoanAmount."
      ]
    },
    {
      "cell_type": "code",
      "metadata": {
        "id": "kDM3rRAOaLBc",
        "colab_type": "code",
        "colab": {
          "base_uri": "https://localhost:8080/",
          "height": 334
        },
        "outputId": "2dc91896-c2cb-4084-fedd-282ade752090"
      },
      "source": [
        "# visualizing LoanAmount\n",
        "plt.subplot(121)\n",
        "df=train.dropna()\n",
        "sns.distplot(df['LoanAmount'])\n",
        "\n",
        "plt.subplot(122)\n",
        "train['LoanAmount'].plot.box(figsize=(16,5))\n",
        "\n",
        "plt.show()"
      ],
      "execution_count": 103,
      "outputs": [
        {
          "output_type": "display_data",
          "data": {
            "image/png": "[encoded data removed]",
            "text/plain": [
              "<Figure size 1152x360 with 2 Axes>"
            ]
          },
          "metadata": {
            "tags": [],
            "needs_background": "light"
          }
        }
      ]
    },
    {
      "cell_type": "markdown",
      "metadata": {
        "id": "BbDNQsrsbtDp",
        "colab_type": "text"
      },
      "source": [
        "Ta thấy biến LoanAmount có phân phối khá giống phân phối chuẩn (mặc dù hơi lệch phải) nhưng có rất nhiều ngoại lệ, chúng ta sẽ xử lý ngoại lệ ở phần sau.\n",
        "\n",
        "Cuối cùng, ta quan sát phân phối của biến Loan_Amount_Term. Bởi vì Loan_Amount_Term là biến rời rạc nên ta sẽ sử dụng frequency table và bar plot để tính toán số lượng của từng giá trị trong biến."
      ]
    },
    {
      "cell_type": "code",
      "metadata": {
        "id": "70a9QHW_d8E1",
        "colab_type": "code",
        "colab": {
          "base_uri": "https://localhost:8080/",
          "height": 202
        },
        "outputId": "73728a63-c87b-4034-e56a-b405d225ac80"
      },
      "source": [
        "# frequency table of a variable will give us the count of each category in that variable\n",
        "train['Loan_Amount_Term'].value_counts()"
      ],
      "execution_count": 104,
      "outputs": [
        {
          "output_type": "execute_result",
          "data": {
            "text/plain": [
              "360.0    512\n",
              "180.0     44\n",
              "480.0     15\n",
              "300.0     13\n",
              "84.0       4\n",
              "240.0      4\n",
              "120.0      3\n",
              "36.0       2\n",
              "60.0       2\n",
              "12.0       1\n",
              "Name: Loan_Amount_Term, dtype: int64"
            ]
          },
          "metadata": {
            "tags": []
          },
          "execution_count": 104
        }
      ]
    },
    {
      "cell_type": "code",
      "metadata": {
        "id": "gCYvWnfzeATw",
        "colab_type": "code",
        "colab": {
          "base_uri": "https://localhost:8080/",
          "height": 331
        },
        "outputId": "fd01e76d-6d22-4cc2-e7b5-839fd4ddc204"
      },
      "source": [
        "# plot bar chart\n",
        "train['Loan_Amount_Term'].value_counts(normalize=True).plot.bar(title='Loan_Amount_Term', color=my_color)\n",
        "plt.xlabel('Months')\n",
        "plt.ylabel('Percentage')"
      ],
      "execution_count": 105,
      "outputs": [
        {
          "output_type": "execute_result",
          "data": {
            "text/plain": [
              "Text(0, 0.5, 'Percentage')"
            ]
          },
          "metadata": {
            "tags": []
          },
          "execution_count": 105
        },
        {
          "output_type": "display_data",
          "data": {
            "image/png": "[encoded data removed]",
            "text/plain": [
              "<Figure size 432x288 with 1 Axes>"
            ]
          },
          "metadata": {
            "tags": [],
            "needs_background": "light"
          }
        }
      ]
    },
    {
      "cell_type": "markdown",
      "metadata": {
        "id": "5Bnd6CUoekES",
        "colab_type": "text"
      },
      "source": [
        "Ta có thể thấy khoảng 85% khoản vay có thời hạn là 360 tháng (30 năm).\n",
        "\n",
        "Tiếp theo, chúng ta muốn biết mỗi biến độc lập tương quan với biến mục tiêu (Loan_Status) như thế nào, chúng ta sẽ đi vào phần Bivariate analysis."
      ]
    },
    {
      "cell_type": "markdown",
      "metadata": {
        "id": "C5i-TfeFiQHy",
        "colab_type": "text"
      },
      "source": [
        "## **Bivariate Analysis**\n",
        "Phân tích song biến (Bivariate analysis) là khi ta tiến hành phân tích mối quan hệ giữa hai biến số với nhau. Cụ thể, ta sẽ nghiên cứu mối quan hệ giữa các biến độc lập (independent variables) và biến mục tiêu (target variable)."
      ]
    },
    {
      "cell_type": "markdown",
      "metadata": {
        "id": "lVl3ltl_mMhY",
        "colab_type": "text"
      },
      "source": [
        "### **Categorical Independent Variable versus Target Variable**\n",
        "Trước tiên, ta sẽ quan sát mối quan hệ giữa biến độc lập phân loại (categorical independent variables) và biến mục tiêu (target variable). Các stacked bar plot bên dưới sẽ cho ta biết tỉ lệ các khoản vay được phê duyệt và không được phê duyệt với mỗi biến độc lập khác nhau."
      ]
    },
    {
      "cell_type": "code",
      "metadata": {
        "id": "74Rq_PNtM51H",
        "colab_type": "code",
        "colab": {
          "base_uri": "https://localhost:8080/",
          "height": 794
        },
        "outputId": "657f65da-d4ec-403b-fc53-387878653920"
      },
      "source": [
        "#visualizing categorical variables vs Loan_Status\n",
        "fig, ((ax1, ax2, ax3, ax4), (ax5, ax6, ax7, ax8)) = plt.subplots(2, 4)\n",
        "Gender = pd.crosstab(train['Gender'],train['Loan_Status'])\n",
        "print(Gender)\n",
        "Gender.div(Gender.sum(1).astype(float), axis=0).plot(kind=\"bar\", stacked=True, ax=ax1, figsize=(20,12))\n",
        "\n",
        "Married = pd.crosstab(train['Married'],train['Loan_Status'])\n",
        "Married.div(Married.sum(1).astype(float), axis=0).plot(kind=\"bar\", stacked=True, ax=ax2)\n",
        "\n",
        "Dependents=pd.crosstab(train['Dependents'],train['Loan_Status'])\n",
        "Dependents.div(Dependents.sum(1).astype(float), axis=0).plot(kind=\"bar\", stacked=True, ax=ax3)\n",
        "\n",
        "Education=pd.crosstab(train['Education'],train['Loan_Status'])\n",
        "Education.div(Education.sum(1).astype(float), axis=0).plot(kind=\"bar\", stacked=True, ax=ax4)\n",
        "\n",
        "Self_Employed=pd.crosstab(train['Self_Employed'],train['Loan_Status'])\n",
        "Self_Employed.div(Self_Employed.sum(1).astype(float), axis=0).plot(kind=\"bar\", stacked=True, ax=ax5)\n",
        "\n",
        "Credit_History=pd.crosstab(train['Credit_History'],train['Loan_Status'])\n",
        "Credit_History.div(Credit_History.sum(1).astype(float), axis=0).plot(kind=\"bar\", stacked=True, ax=ax6)\n",
        "\n",
        "Property_Area=pd.crosstab(train['Property_Area'],train['Loan_Status'])\n",
        "Property_Area.div(Property_Area.sum(1).astype(float), axis=0).plot(kind=\"bar\", stacked=True, ax=ax7)\n",
        "\n",
        "fig.delaxes(ax8)\n",
        "\n",
        "ax1.set(ylabel='Percentage')\n",
        "ax5.set(ylabel='Percentage')\n",
        "\n",
        "plt.show()"
      ],
      "execution_count": 106,
      "outputs": [
        {
          "output_type": "stream",
          "text": [
            "Loan_Status    N    Y\n",
            "Gender               \n",
            "Female        37   75\n",
            "Male         150  339\n"
          ],
          "name": "stdout"
        },
        {
          "output_type": "display_data",
          "data": {
            "image/png": "[encoded data removed]",
            "text/plain": [
              "<Figure size 1440x864 with 7 Axes>"
            ]
          },
          "metadata": {
            "tags": [],
            "needs_background": "light"
          }
        }
      ]
    },
    {
      "cell_type": "markdown",
      "metadata": {
        "id": "tiVa3_ylra3e",
        "colab_type": "text"
      },
      "source": [
        "Từ hình trên, ta thấy:\n",
        "*   Tỉ số các khoản vay được và không được phê duyệt của các ứng viên có giới tính nam và nữ gần như giống nhau;\n",
        "*   Tỉ số khoản vay được phê duyệt của các ứng viên đã kết hôn cao hơn nhẹ so với các ứng viên chưa kết hôn;\n",
        "*   Tỉ số khoản vay được và không được phê duyệt của các ứng viên có 1 và 3+ người phụ thuộc gần như giống nhau; \n",
        "*   Tỉ số khoản vay được phê duyệt của các ứng viên đã tốt nghiệp cao hơn so với các ứng viên chưa tốt nghiệp;\n",
        "*   Tỉ số các khoản vay được và không được phê duyệt của các ứng viên có nghề nghiệp tự do và không có nghề nghiệp tự do gần như giống nhau;\n",
        "*   Các ứng viên có lịch sử tín dụng là 1 có khả năng khoản vay được phê duyệt rất cao, ngược lại thì rất thấp;\n",
        "*   Tỉ lệ khoản vay được phê duyệt của các ứng viên ở khu vực ngoại thành cao hơn so với ở nông thôn hoặc thành thị.\n",
        "\n"
      ]
    },
    {
      "cell_type": "markdown",
      "metadata": {
        "id": "Jign00sEp9ku",
        "colab_type": "text"
      },
      "source": [
        "### **Numerical Independent Variable versus Target Variable**\n",
        "Tiếp theo, ta sẽ quan sát mối quan hệ giữa biến độc lập dạng số (numerical independent variables) và biến mục tiêu (target variable).\n",
        "\n",
        "Chúng ta sẽ xem xét sự khác nhau về mức thu nhập trung bình (ApplicantIncome) của các ứng viên có khoản vay được phê duyệt và không được phê duyệt."
      ]
    },
    {
      "cell_type": "code",
      "metadata": {
        "id": "tnNulzRzsMqS",
        "colab_type": "code",
        "colab": {
          "base_uri": "https://localhost:8080/",
          "height": 362
        },
        "outputId": "e562a755-1a1f-4b8b-b4ac-46bd490524ba"
      },
      "source": [
        "print(train.groupby('Loan_Status')['ApplicantIncome'].mean())\n",
        "\n",
        "train.groupby('Loan_Status')['ApplicantIncome'].mean().plot.bar(color=my_color)\n",
        "plt.ylabel('Mean of ApplicantIncome')"
      ],
      "execution_count": 107,
      "outputs": [
        {
          "output_type": "stream",
          "text": [
            "Loan_Status\n",
            "N    5446.078125\n",
            "Y    5384.068720\n",
            "Name: ApplicantIncome, dtype: float64\n"
          ],
          "name": "stdout"
        },
        {
          "output_type": "execute_result",
          "data": {
            "text/plain": [
              "Text(0, 0.5, 'Mean of ApplicantIncome')"
            ]
          },
          "metadata": {
            "tags": []
          },
          "execution_count": 107
        },
        {
          "output_type": "display_data",
          "data": {
            "image/png": "[encoded data removed]",
            "text/plain": [
              "<Figure size 432x288 with 1 Axes>"
            ]
          },
          "metadata": {
            "tags": [],
            "needs_background": "light"
          }
        }
      ]
    },
    {
      "cell_type": "markdown",
      "metadata": {
        "id": "xm-pk1zntGyK",
        "colab_type": "text"
      },
      "source": [
        "Biểu đồ cột cho ta thấy không có sự biệt về thu nhập trung bình của 2 nhóm trên (5446 vs 5384).\n",
        "\n",
        "Vì vậy, ta sẽ tạo các bin cho biến ApplicantIncome, dựa vào các giá trị trong đó và phân tích trạng thái khoản vay tương ứng cho mỗi bin."
      ]
    },
    {
      "cell_type": "code",
      "metadata": {
        "id": "QPaJkgZBuFeP",
        "colab_type": "code",
        "colab": {}
      },
      "source": [
        "# making bins for ApplicantIncome variable\n",
        "bins = [0, 2500, 4000, 6000, 81000]\n",
        "group = ['Low', 'Average', 'High', 'Very high']\n",
        "train['Income_bin'] = pd.cut(train['ApplicantIncome'], bins, labels=group)"
      ],
      "execution_count": 108,
      "outputs": []
    },
    {
      "cell_type": "code",
      "metadata": {
        "id": "fI-otiDlubNf",
        "colab_type": "code",
        "colab": {
          "base_uri": "https://localhost:8080/",
          "height": 232
        },
        "outputId": "193c2107-6d34-4dce-ad27-79eaa254bed6"
      },
      "source": [
        "# take a look at the train set\n",
        "train.head()"
      ],
      "execution_count": 109,
      "outputs": [
        {
          "output_type": "execute_result",
          "data": {
            "text/html": [
              "<div>\n",
              "<style scoped>\n",
              "    .dataframe tbody tr th:only-of-type {\n",
              "        vertical-align: middle;\n",
              "    }\n",
              "\n",
              "    .dataframe tbody tr th {\n",
              "        vertical-align: top;\n",
              "    }\n",
              "\n",
              "    .dataframe thead th {\n",
              "        text-align: right;\n",
              "    }\n",
              "</style>\n",
              "<table border=\"1\" class=\"dataframe\">\n",
              "  <thead>\n",
              "    <tr style=\"text-align: right;\">\n",
              "      <th></th>\n",
              "      <th>Loan_ID</th>\n",
              "      <th>Gender</th>\n",
              "      <th>Married</th>\n",
              "      <th>Dependents</th>\n",
              "      <th>Education</th>\n",
              "      <th>Self_Employed</th>\n",
              "      <th>ApplicantIncome</th>\n",
              "      <th>CoapplicantIncome</th>\n",
              "      <th>LoanAmount</th>\n",
              "      <th>Loan_Amount_Term</th>\n",
              "      <th>Credit_History</th>\n",
              "      <th>Property_Area</th>\n",
              "      <th>Loan_Status</th>\n",
              "      <th>Income_bin</th>\n",
              "    </tr>\n",
              "  </thead>\n",
              "  <tbody>\n",
              "    <tr>\n",
              "      <th>0</th>\n",
              "      <td>LP001002</td>\n",
              "      <td>Male</td>\n",
              "      <td>No</td>\n",
              "      <td>0</td>\n",
              "      <td>Graduate</td>\n",
              "      <td>No</td>\n",
              "      <td>5849</td>\n",
              "      <td>0.0</td>\n",
              "      <td>NaN</td>\n",
              "      <td>360.0</td>\n",
              "      <td>1.0</td>\n",
              "      <td>Urban</td>\n",
              "      <td>Y</td>\n",
              "      <td>High</td>\n",
              "    </tr>\n",
              "    <tr>\n",
              "      <th>1</th>\n",
              "      <td>LP001003</td>\n",
              "      <td>Male</td>\n",
              "      <td>Yes</td>\n",
              "      <td>1</td>\n",
              "      <td>Graduate</td>\n",
              "      <td>No</td>\n",
              "      <td>4583</td>\n",
              "      <td>1508.0</td>\n",
              "      <td>128.0</td>\n",
              "      <td>360.0</td>\n",
              "      <td>1.0</td>\n",
              "      <td>Rural</td>\n",
              "      <td>N</td>\n",
              "      <td>High</td>\n",
              "    </tr>\n",
              "    <tr>\n",
              "      <th>2</th>\n",
              "      <td>LP001005</td>\n",
              "      <td>Male</td>\n",
              "      <td>Yes</td>\n",
              "      <td>0</td>\n",
              "      <td>Graduate</td>\n",
              "      <td>Yes</td>\n",
              "      <td>3000</td>\n",
              "      <td>0.0</td>\n",
              "      <td>66.0</td>\n",
              "      <td>360.0</td>\n",
              "      <td>1.0</td>\n",
              "      <td>Urban</td>\n",
              "      <td>Y</td>\n",
              "      <td>Average</td>\n",
              "    </tr>\n",
              "    <tr>\n",
              "      <th>3</th>\n",
              "      <td>LP001006</td>\n",
              "      <td>Male</td>\n",
              "      <td>Yes</td>\n",
              "      <td>0</td>\n",
              "      <td>Not Graduate</td>\n",
              "      <td>No</td>\n",
              "      <td>2583</td>\n",
              "      <td>2358.0</td>\n",
              "      <td>120.0</td>\n",
              "      <td>360.0</td>\n",
              "      <td>1.0</td>\n",
              "      <td>Urban</td>\n",
              "      <td>Y</td>\n",
              "      <td>Average</td>\n",
              "    </tr>\n",
              "    <tr>\n",
              "      <th>4</th>\n",
              "      <td>LP001008</td>\n",
              "      <td>Male</td>\n",
              "      <td>No</td>\n",
              "      <td>0</td>\n",
              "      <td>Graduate</td>\n",
              "      <td>No</td>\n",
              "      <td>6000</td>\n",
              "      <td>0.0</td>\n",
              "      <td>141.0</td>\n",
              "      <td>360.0</td>\n",
              "      <td>1.0</td>\n",
              "      <td>Urban</td>\n",
              "      <td>Y</td>\n",
              "      <td>High</td>\n",
              "    </tr>\n",
              "  </tbody>\n",
              "</table>\n",
              "</div>"
            ],
            "text/plain": [
              "    Loan_ID Gender Married  ... Property_Area Loan_Status Income_bin\n",
              "0  LP001002   Male      No  ...         Urban           Y       High\n",
              "1  LP001003   Male     Yes  ...         Rural           N       High\n",
              "2  LP001005   Male     Yes  ...         Urban           Y    Average\n",
              "3  LP001006   Male     Yes  ...         Urban           Y    Average\n",
              "4  LP001008   Male      No  ...         Urban           Y       High\n",
              "\n",
              "[5 rows x 14 columns]"
            ]
          },
          "metadata": {
            "tags": []
          },
          "execution_count": 109
        }
      ]
    },
    {
      "cell_type": "code",
      "metadata": {
        "id": "-iyFxc-SvN2d",
        "colab_type": "code",
        "colab": {
          "base_uri": "https://localhost:8080/",
          "height": 434
        },
        "outputId": "8a26e632-291d-4aa0-d60e-7a4b7affec6b"
      },
      "source": [
        "print(pd.crosstab(train['Income_bin'],train['Loan_Status']))\n",
        "\n",
        "Income_bin = pd.crosstab(train['Income_bin'],train['Loan_Status'])\n",
        "Income_bin.div(Income_bin.sum(1).astype(float), axis=0).plot(kind=\"bar\", stacked=True)\n",
        "plt.xlabel('ApplicantIncome')\n",
        "plt.ylabel('Percentage')"
      ],
      "execution_count": 110,
      "outputs": [
        {
          "output_type": "stream",
          "text": [
            "Loan_Status   N    Y\n",
            "Income_bin          \n",
            "Low          34   74\n",
            "Average      67  159\n",
            "High         45   98\n",
            "Very high    46   91\n"
          ],
          "name": "stdout"
        },
        {
          "output_type": "execute_result",
          "data": {
            "text/plain": [
              "Text(0, 0.5, 'Percentage')"
            ]
          },
          "metadata": {
            "tags": []
          },
          "execution_count": 110
        },
        {
          "output_type": "display_data",
          "data": {
            "image/png": "[encoded data removed]",
            "text/plain": [
              "<Figure size 432x288 with 1 Axes>"
            ]
          },
          "metadata": {
            "tags": [],
            "needs_background": "light"
          }
        }
      ]
    },
    {
      "cell_type": "markdown",
      "metadata": {
        "id": "JW8H6o3k1_zD",
        "colab_type": "text"
      },
      "source": [
        "Từ biểu đồ cột trên ta có thể thấy mức thu nhập của các ứng viên (ApplicantIncome) dù cao hay thấp đều không ảnh hưởng đến khả năng được chấp thuận khoản vay.\n",
        "\n",
        "Tiếp theo, chúng ta sẽ phân tích biến CoapplicantIncome và LoanAmount theo cách tương tự."
      ]
    },
    {
      "cell_type": "code",
      "metadata": {
        "id": "oXMO_Xu15et_",
        "colab_type": "code",
        "colab": {}
      },
      "source": [
        "# making bins for CoapplicantIncome variable\n",
        "bins = [0,1000,3000,42000]\n",
        "group = ['Low','Average','High']\n",
        "train['Coapplicant_Income_bin'] = pd.cut(train['CoapplicantIncome'], bins, labels=group)"
      ],
      "execution_count": 111,
      "outputs": []
    },
    {
      "cell_type": "code",
      "metadata": {
        "id": "vPPDzM0r5z9C",
        "colab_type": "code",
        "colab": {
          "base_uri": "https://localhost:8080/",
          "height": 327
        },
        "outputId": "af002859-4ca0-49a0-a3bd-1c61ab34fede"
      },
      "source": [
        "# plot the chart\n",
        "Coapplicant_Income_bin = pd.crosstab(train['Coapplicant_Income_bin'],train['Loan_Status'])\n",
        "Coapplicant_Income_bin.div(Coapplicant_Income_bin.sum(1).astype(float), axis=0).plot(kind=\"bar\", stacked=True)\n",
        "plt.xlabel('CoapplicantIncome')\n",
        "plt.ylabel('Percentage')"
      ],
      "execution_count": 112,
      "outputs": [
        {
          "output_type": "execute_result",
          "data": {
            "text/plain": [
              "Text(0, 0.5, 'Percentage')"
            ]
          },
          "metadata": {
            "tags": []
          },
          "execution_count": 112
        },
        {
          "output_type": "display_data",
          "data": {
            "image/png": "[encoded data removed]",
            "text/plain": [
              "<Figure size 432x288 with 1 Axes>"
            ]
          },
          "metadata": {
            "tags": [],
            "needs_background": "light"
          }
        }
      ]
    },
    {
      "cell_type": "code",
      "metadata": {
        "id": "-6D1F-edhipb",
        "colab_type": "code",
        "colab": {
          "base_uri": "https://localhost:8080/",
          "height": 50
        },
        "outputId": "f75275ec-5bf4-4ccd-9621-94390d91521d"
      },
      "source": [
        "print(len(train[train[\"CoapplicantIncome\"] == 0]))\n",
        "print(\"Percentage of CoapplicantIncome = 0 is:\",  len(train[train[\"CoapplicantIncome\"] == 0])/len(train[\"CoapplicantIncome\"]))"
      ],
      "execution_count": 113,
      "outputs": [
        {
          "output_type": "stream",
          "text": [
            "273\n",
            "Percentage of CoapplicantIncome = 0 is: 0.44462540716612375\n"
          ],
          "name": "stdout"
        }
      ]
    },
    {
      "cell_type": "markdown",
      "metadata": {
        "id": "xRmZoirQlolr",
        "colab_type": "text"
      },
      "source": [
        "Biều đồ trên cho thấy mức thu nhập của đồng ứng viên (CoapplicantIncome) càng tháp thì tỉ lệ khoản vay được phê duyệt càng cao. Nhưng điều đó không đúng, bởi vì có khoảng 45% các ứng viên không có đồng ứng viên nào (CoapplicantIncome = 0), do đó việc phê duyệt các khoản vay không phụ thuộc vào nó. Vậy nên, ta tiến hành tạo một biến mới (Total_Income) là sự kết hợp của ApplicantIncome và CoapplicantIncome để hình dung hiệu quả về thu nhập với khả năng phê duyệt khoản vay."
      ]
    },
    {
      "cell_type": "code",
      "metadata": {
        "id": "BKfKtnQ9m9i2",
        "colab_type": "code",
        "colab": {}
      },
      "source": [
        "# create a new variable\n",
        "train['Total_Income'] = train['ApplicantIncome'] + train['CoapplicantIncome']"
      ],
      "execution_count": 114,
      "outputs": []
    },
    {
      "cell_type": "code",
      "metadata": {
        "id": "yHRr6rPFnNiY",
        "colab_type": "code",
        "colab": {}
      },
      "source": [
        "# making bins for Total Income variable\n",
        "bins = [0,2500,4000,6000,81000]\n",
        "group = ['Low','Average','High', 'Very high']\n",
        "train['Total_Income_bin'] = pd.cut(train['Total_Income'], bins, labels=group)"
      ],
      "execution_count": 115,
      "outputs": []
    },
    {
      "cell_type": "code",
      "metadata": {
        "id": "Ax8yIiPBnVAM",
        "colab_type": "code",
        "colab": {
          "base_uri": "https://localhost:8080/",
          "height": 335
        },
        "outputId": "8c71ab12-1aab-46ba-80f8-0c6b2308f03b"
      },
      "source": [
        "# plot the chart\n",
        "Total_Income_bin = pd.crosstab(train['Total_Income_bin'],train['Loan_Status'])\n",
        "Total_Income_bin.div(Total_Income_bin.sum(1).astype(float), axis=0).plot(kind=\"bar\", stacked=True)\n",
        "plt.xlabel('Total_Income')\n",
        "plt.ylabel('Percentage')"
      ],
      "execution_count": 116,
      "outputs": [
        {
          "output_type": "execute_result",
          "data": {
            "text/plain": [
              "Text(0, 0.5, 'Percentage')"
            ]
          },
          "metadata": {
            "tags": []
          },
          "execution_count": 116
        },
        {
          "output_type": "display_data",
          "data": {
            "image/png": "[encoded data removed]",
            "text/plain": [
              "<Figure size 432x288 with 1 Axes>"
            ]
          },
          "metadata": {
            "tags": [],
            "needs_background": "light"
          }
        }
      ]
    },
    {
      "cell_type": "markdown",
      "metadata": {
        "id": "RR7TGDJRnZrG",
        "colab_type": "text"
      },
      "source": [
        "Ta có thể thấy tỉ lệ khoản vay được phê duyệt ở các đơn có tổng thu nhập (Total_Income) thấp sẽ thấp hơn nhiều so với đơn có tổng thu nhập trung bình, cao hoặc rất cao.\n",
        "\n",
        "Tiếp theo, chúng ta quan sát biến LoanAmout"
      ]
    },
    {
      "cell_type": "code",
      "metadata": {
        "id": "WPO2TzHLqfsF",
        "colab_type": "code",
        "colab": {}
      },
      "source": [
        "# making bins for LoanAmount variable\n",
        "bins = [0,100,200,700]\n",
        "group = ['Low','Average','High']\n",
        "train['LoanAmount_bin'] = pd.cut(df['LoanAmount'],bins,labels=group)"
      ],
      "execution_count": 117,
      "outputs": []
    },
    {
      "cell_type": "code",
      "metadata": {
        "id": "1teWh6utqjdy",
        "colab_type": "code",
        "colab": {
          "base_uri": "https://localhost:8080/",
          "height": 310
        },
        "outputId": "19939c26-a544-4b37-95a3-bd3050df9756"
      },
      "source": [
        "# plot the chart \n",
        "LoanAmount_bin = pd.crosstab(train['LoanAmount_bin'],train['Loan_Status'])\n",
        "LoanAmount_bin.div(LoanAmount_bin.sum(1).astype(float), axis=0).plot(kind=\"bar\", stacked=True)\n",
        "plt.xlabel('LoanAmount')\n",
        "P = plt.ylabel('Percentage')"
      ],
      "execution_count": 118,
      "outputs": [
        {
          "output_type": "display_data",
          "data": {
            "image/png": "[encoded data removed]",
            "text/plain": [
              "<Figure size 432x288 with 1 Axes>"
            ]
          },
          "metadata": {
            "tags": [],
            "needs_background": "light"
          }
        }
      ]
    },
    {
      "cell_type": "markdown",
      "metadata": {
        "id": "4o8xnRWTrK9H",
        "colab_type": "text"
      },
      "source": [
        "Ta có thể thấy có khoản vay với số tiền nhỏ hoặc trung bình có khả năng được phê duyệt cao hơn so với khoản vay với số tiền lớn.\n",
        "\n",
        "Tiếp theo, ta sẽ xoá những biến ta thêm vào ở phần trước."
      ]
    },
    {
      "cell_type": "code",
      "metadata": {
        "id": "sNf5X-fervqb",
        "colab_type": "code",
        "colab": {
          "base_uri": "https://localhost:8080/",
          "height": 232
        },
        "outputId": "bf41b953-1c62-4551-c90d-7e0d035098ab"
      },
      "source": [
        "# before dropping\n",
        "train.head()"
      ],
      "execution_count": 119,
      "outputs": [
        {
          "output_type": "execute_result",
          "data": {
            "text/html": [
              "<div>\n",
              "<style scoped>\n",
              "    .dataframe tbody tr th:only-of-type {\n",
              "        vertical-align: middle;\n",
              "    }\n",
              "\n",
              "    .dataframe tbody tr th {\n",
              "        vertical-align: top;\n",
              "    }\n",
              "\n",
              "    .dataframe thead th {\n",
              "        text-align: right;\n",
              "    }\n",
              "</style>\n",
              "<table border=\"1\" class=\"dataframe\">\n",
              "  <thead>\n",
              "    <tr style=\"text-align: right;\">\n",
              "      <th></th>\n",
              "      <th>Loan_ID</th>\n",
              "      <th>Gender</th>\n",
              "      <th>Married</th>\n",
              "      <th>Dependents</th>\n",
              "      <th>Education</th>\n",
              "      <th>Self_Employed</th>\n",
              "      <th>ApplicantIncome</th>\n",
              "      <th>CoapplicantIncome</th>\n",
              "      <th>LoanAmount</th>\n",
              "      <th>Loan_Amount_Term</th>\n",
              "      <th>Credit_History</th>\n",
              "      <th>Property_Area</th>\n",
              "      <th>Loan_Status</th>\n",
              "      <th>Income_bin</th>\n",
              "      <th>Coapplicant_Income_bin</th>\n",
              "      <th>Total_Income</th>\n",
              "      <th>Total_Income_bin</th>\n",
              "      <th>LoanAmount_bin</th>\n",
              "    </tr>\n",
              "  </thead>\n",
              "  <tbody>\n",
              "    <tr>\n",
              "      <th>0</th>\n",
              "      <td>LP001002</td>\n",
              "      <td>Male</td>\n",
              "      <td>No</td>\n",
              "      <td>0</td>\n",
              "      <td>Graduate</td>\n",
              "      <td>No</td>\n",
              "      <td>5849</td>\n",
              "      <td>0.0</td>\n",
              "      <td>NaN</td>\n",
              "      <td>360.0</td>\n",
              "      <td>1.0</td>\n",
              "      <td>Urban</td>\n",
              "      <td>Y</td>\n",
              "      <td>High</td>\n",
              "      <td>NaN</td>\n",
              "      <td>5849.0</td>\n",
              "      <td>High</td>\n",
              "      <td>NaN</td>\n",
              "    </tr>\n",
              "    <tr>\n",
              "      <th>1</th>\n",
              "      <td>LP001003</td>\n",
              "      <td>Male</td>\n",
              "      <td>Yes</td>\n",
              "      <td>1</td>\n",
              "      <td>Graduate</td>\n",
              "      <td>No</td>\n",
              "      <td>4583</td>\n",
              "      <td>1508.0</td>\n",
              "      <td>128.0</td>\n",
              "      <td>360.0</td>\n",
              "      <td>1.0</td>\n",
              "      <td>Rural</td>\n",
              "      <td>N</td>\n",
              "      <td>High</td>\n",
              "      <td>Average</td>\n",
              "      <td>6091.0</td>\n",
              "      <td>Very high</td>\n",
              "      <td>Average</td>\n",
              "    </tr>\n",
              "    <tr>\n",
              "      <th>2</th>\n",
              "      <td>LP001005</td>\n",
              "      <td>Male</td>\n",
              "      <td>Yes</td>\n",
              "      <td>0</td>\n",
              "      <td>Graduate</td>\n",
              "      <td>Yes</td>\n",
              "      <td>3000</td>\n",
              "      <td>0.0</td>\n",
              "      <td>66.0</td>\n",
              "      <td>360.0</td>\n",
              "      <td>1.0</td>\n",
              "      <td>Urban</td>\n",
              "      <td>Y</td>\n",
              "      <td>Average</td>\n",
              "      <td>NaN</td>\n",
              "      <td>3000.0</td>\n",
              "      <td>Average</td>\n",
              "      <td>Low</td>\n",
              "    </tr>\n",
              "    <tr>\n",
              "      <th>3</th>\n",
              "      <td>LP001006</td>\n",
              "      <td>Male</td>\n",
              "      <td>Yes</td>\n",
              "      <td>0</td>\n",
              "      <td>Not Graduate</td>\n",
              "      <td>No</td>\n",
              "      <td>2583</td>\n",
              "      <td>2358.0</td>\n",
              "      <td>120.0</td>\n",
              "      <td>360.0</td>\n",
              "      <td>1.0</td>\n",
              "      <td>Urban</td>\n",
              "      <td>Y</td>\n",
              "      <td>Average</td>\n",
              "      <td>Average</td>\n",
              "      <td>4941.0</td>\n",
              "      <td>High</td>\n",
              "      <td>Average</td>\n",
              "    </tr>\n",
              "    <tr>\n",
              "      <th>4</th>\n",
              "      <td>LP001008</td>\n",
              "      <td>Male</td>\n",
              "      <td>No</td>\n",
              "      <td>0</td>\n",
              "      <td>Graduate</td>\n",
              "      <td>No</td>\n",
              "      <td>6000</td>\n",
              "      <td>0.0</td>\n",
              "      <td>141.0</td>\n",
              "      <td>360.0</td>\n",
              "      <td>1.0</td>\n",
              "      <td>Urban</td>\n",
              "      <td>Y</td>\n",
              "      <td>High</td>\n",
              "      <td>NaN</td>\n",
              "      <td>6000.0</td>\n",
              "      <td>High</td>\n",
              "      <td>Average</td>\n",
              "    </tr>\n",
              "  </tbody>\n",
              "</table>\n",
              "</div>"
            ],
            "text/plain": [
              "    Loan_ID Gender Married  ... Total_Income Total_Income_bin LoanAmount_bin\n",
              "0  LP001002   Male      No  ...       5849.0             High            NaN\n",
              "1  LP001003   Male     Yes  ...       6091.0        Very high        Average\n",
              "2  LP001005   Male     Yes  ...       3000.0          Average            Low\n",
              "3  LP001006   Male     Yes  ...       4941.0             High        Average\n",
              "4  LP001008   Male      No  ...       6000.0             High        Average\n",
              "\n",
              "[5 rows x 18 columns]"
            ]
          },
          "metadata": {
            "tags": []
          },
          "execution_count": 119
        }
      ]
    },
    {
      "cell_type": "code",
      "metadata": {
        "id": "OzBhjLpqr57X",
        "colab_type": "code",
        "colab": {}
      },
      "source": [
        "# drop the new variable of bins\n",
        "train = train.drop(['Income_bin', 'Coapplicant_Income_bin', 'LoanAmount_bin', 'Total_Income_bin', 'Total_Income'], axis=1)"
      ],
      "execution_count": 120,
      "outputs": []
    },
    {
      "cell_type": "code",
      "metadata": {
        "id": "0jTX6fZjr7WV",
        "colab_type": "code",
        "colab": {
          "base_uri": "https://localhost:8080/",
          "height": 232
        },
        "outputId": "8071d7af-37ad-4357-aa5e-d42603cbbb2c"
      },
      "source": [
        "# after dropping\n",
        "train.head()"
      ],
      "execution_count": 121,
      "outputs": [
        {
          "output_type": "execute_result",
          "data": {
            "text/html": [
              "<div>\n",
              "<style scoped>\n",
              "    .dataframe tbody tr th:only-of-type {\n",
              "        vertical-align: middle;\n",
              "    }\n",
              "\n",
              "    .dataframe tbody tr th {\n",
              "        vertical-align: top;\n",
              "    }\n",
              "\n",
              "    .dataframe thead th {\n",
              "        text-align: right;\n",
              "    }\n",
              "</style>\n",
              "<table border=\"1\" class=\"dataframe\">\n",
              "  <thead>\n",
              "    <tr style=\"text-align: right;\">\n",
              "      <th></th>\n",
              "      <th>Loan_ID</th>\n",
              "      <th>Gender</th>\n",
              "      <th>Married</th>\n",
              "      <th>Dependents</th>\n",
              "      <th>Education</th>\n",
              "      <th>Self_Employed</th>\n",
              "      <th>ApplicantIncome</th>\n",
              "      <th>CoapplicantIncome</th>\n",
              "      <th>LoanAmount</th>\n",
              "      <th>Loan_Amount_Term</th>\n",
              "      <th>Credit_History</th>\n",
              "      <th>Property_Area</th>\n",
              "      <th>Loan_Status</th>\n",
              "    </tr>\n",
              "  </thead>\n",
              "  <tbody>\n",
              "    <tr>\n",
              "      <th>0</th>\n",
              "      <td>LP001002</td>\n",
              "      <td>Male</td>\n",
              "      <td>No</td>\n",
              "      <td>0</td>\n",
              "      <td>Graduate</td>\n",
              "      <td>No</td>\n",
              "      <td>5849</td>\n",
              "      <td>0.0</td>\n",
              "      <td>NaN</td>\n",
              "      <td>360.0</td>\n",
              "      <td>1.0</td>\n",
              "      <td>Urban</td>\n",
              "      <td>Y</td>\n",
              "    </tr>\n",
              "    <tr>\n",
              "      <th>1</th>\n",
              "      <td>LP001003</td>\n",
              "      <td>Male</td>\n",
              "      <td>Yes</td>\n",
              "      <td>1</td>\n",
              "      <td>Graduate</td>\n",
              "      <td>No</td>\n",
              "      <td>4583</td>\n",
              "      <td>1508.0</td>\n",
              "      <td>128.0</td>\n",
              "      <td>360.0</td>\n",
              "      <td>1.0</td>\n",
              "      <td>Rural</td>\n",
              "      <td>N</td>\n",
              "    </tr>\n",
              "    <tr>\n",
              "      <th>2</th>\n",
              "      <td>LP001005</td>\n",
              "      <td>Male</td>\n",
              "      <td>Yes</td>\n",
              "      <td>0</td>\n",
              "      <td>Graduate</td>\n",
              "      <td>Yes</td>\n",
              "      <td>3000</td>\n",
              "      <td>0.0</td>\n",
              "      <td>66.0</td>\n",
              "      <td>360.0</td>\n",
              "      <td>1.0</td>\n",
              "      <td>Urban</td>\n",
              "      <td>Y</td>\n",
              "    </tr>\n",
              "    <tr>\n",
              "      <th>3</th>\n",
              "      <td>LP001006</td>\n",
              "      <td>Male</td>\n",
              "      <td>Yes</td>\n",
              "      <td>0</td>\n",
              "      <td>Not Graduate</td>\n",
              "      <td>No</td>\n",
              "      <td>2583</td>\n",
              "      <td>2358.0</td>\n",
              "      <td>120.0</td>\n",
              "      <td>360.0</td>\n",
              "      <td>1.0</td>\n",
              "      <td>Urban</td>\n",
              "      <td>Y</td>\n",
              "    </tr>\n",
              "    <tr>\n",
              "      <th>4</th>\n",
              "      <td>LP001008</td>\n",
              "      <td>Male</td>\n",
              "      <td>No</td>\n",
              "      <td>0</td>\n",
              "      <td>Graduate</td>\n",
              "      <td>No</td>\n",
              "      <td>6000</td>\n",
              "      <td>0.0</td>\n",
              "      <td>141.0</td>\n",
              "      <td>360.0</td>\n",
              "      <td>1.0</td>\n",
              "      <td>Urban</td>\n",
              "      <td>Y</td>\n",
              "    </tr>\n",
              "  </tbody>\n",
              "</table>\n",
              "</div>"
            ],
            "text/plain": [
              "    Loan_ID Gender Married  ... Credit_History Property_Area Loan_Status\n",
              "0  LP001002   Male      No  ...            1.0         Urban           Y\n",
              "1  LP001003   Male     Yes  ...            1.0         Rural           N\n",
              "2  LP001005   Male     Yes  ...            1.0         Urban           Y\n",
              "3  LP001006   Male     Yes  ...            1.0         Urban           Y\n",
              "4  LP001008   Male      No  ...            1.0         Urban           Y\n",
              "\n",
              "[5 rows x 13 columns]"
            ]
          },
          "metadata": {
            "tags": []
          },
          "execution_count": 121
        }
      ]
    },
    {
      "cell_type": "markdown",
      "metadata": {
        "id": "aN6bf1YyVpZA",
        "colab_type": "text"
      },
      "source": [
        "Chúng ta sẽ thay đổi giá trí 3+ trong biến Dependents thành 3 để biến nó thành biến số (numerical variable). Đồng thời đổi giá trị của biến mục tiêu (target variable) từ Y/N thành 1/0 để xem mối tương quan của nó với các biến số khác. Và một số mô hình chẳng hạn như Logistic Regression chỉ lấy các giá trị số làm đầu vào nên việc biến đổi là rất cần thiết."
      ]
    },
    {
      "cell_type": "code",
      "metadata": {
        "id": "yWh3AdlaYLjV",
        "colab_type": "code",
        "colab": {}
      },
      "source": [
        "# replacing 3+ in Dependents variable with 3 for both train and test set\n",
        "train['Dependents'].replace('3+', 3, inplace=True)\n",
        "test['Dependents'].replace('3+', 3, inplace=True)"
      ],
      "execution_count": 122,
      "outputs": []
    },
    {
      "cell_type": "code",
      "metadata": {
        "id": "HWBua8LeYPse",
        "colab_type": "code",
        "colab": {}
      },
      "source": [
        "# replacing Y and N in Loan_Status variable with 1 and 0 respectively\n",
        "train['Loan_Status'].replace('N', 0, inplace=True)\n",
        "train['Loan_Status'].replace('Y', 1, inplace=True)"
      ],
      "execution_count": 123,
      "outputs": []
    },
    {
      "cell_type": "code",
      "metadata": {
        "id": "mZ9angoGY0R3",
        "colab_type": "code",
        "colab": {
          "base_uri": "https://localhost:8080/",
          "height": 232
        },
        "outputId": "ff616748-25ec-4180-e65a-1efdca9d92e8"
      },
      "source": [
        "# check the dataset\n",
        "train.head()"
      ],
      "execution_count": 124,
      "outputs": [
        {
          "output_type": "execute_result",
          "data": {
            "text/html": [
              "<div>\n",
              "<style scoped>\n",
              "    .dataframe tbody tr th:only-of-type {\n",
              "        vertical-align: middle;\n",
              "    }\n",
              "\n",
              "    .dataframe tbody tr th {\n",
              "        vertical-align: top;\n",
              "    }\n",
              "\n",
              "    .dataframe thead th {\n",
              "        text-align: right;\n",
              "    }\n",
              "</style>\n",
              "<table border=\"1\" class=\"dataframe\">\n",
              "  <thead>\n",
              "    <tr style=\"text-align: right;\">\n",
              "      <th></th>\n",
              "      <th>Loan_ID</th>\n",
              "      <th>Gender</th>\n",
              "      <th>Married</th>\n",
              "      <th>Dependents</th>\n",
              "      <th>Education</th>\n",
              "      <th>Self_Employed</th>\n",
              "      <th>ApplicantIncome</th>\n",
              "      <th>CoapplicantIncome</th>\n",
              "      <th>LoanAmount</th>\n",
              "      <th>Loan_Amount_Term</th>\n",
              "      <th>Credit_History</th>\n",
              "      <th>Property_Area</th>\n",
              "      <th>Loan_Status</th>\n",
              "    </tr>\n",
              "  </thead>\n",
              "  <tbody>\n",
              "    <tr>\n",
              "      <th>0</th>\n",
              "      <td>LP001002</td>\n",
              "      <td>Male</td>\n",
              "      <td>No</td>\n",
              "      <td>0</td>\n",
              "      <td>Graduate</td>\n",
              "      <td>No</td>\n",
              "      <td>5849</td>\n",
              "      <td>0.0</td>\n",
              "      <td>NaN</td>\n",
              "      <td>360.0</td>\n",
              "      <td>1.0</td>\n",
              "      <td>Urban</td>\n",
              "      <td>1</td>\n",
              "    </tr>\n",
              "    <tr>\n",
              "      <th>1</th>\n",
              "      <td>LP001003</td>\n",
              "      <td>Male</td>\n",
              "      <td>Yes</td>\n",
              "      <td>1</td>\n",
              "      <td>Graduate</td>\n",
              "      <td>No</td>\n",
              "      <td>4583</td>\n",
              "      <td>1508.0</td>\n",
              "      <td>128.0</td>\n",
              "      <td>360.0</td>\n",
              "      <td>1.0</td>\n",
              "      <td>Rural</td>\n",
              "      <td>0</td>\n",
              "    </tr>\n",
              "    <tr>\n",
              "      <th>2</th>\n",
              "      <td>LP001005</td>\n",
              "      <td>Male</td>\n",
              "      <td>Yes</td>\n",
              "      <td>0</td>\n",
              "      <td>Graduate</td>\n",
              "      <td>Yes</td>\n",
              "      <td>3000</td>\n",
              "      <td>0.0</td>\n",
              "      <td>66.0</td>\n",
              "      <td>360.0</td>\n",
              "      <td>1.0</td>\n",
              "      <td>Urban</td>\n",
              "      <td>1</td>\n",
              "    </tr>\n",
              "    <tr>\n",
              "      <th>3</th>\n",
              "      <td>LP001006</td>\n",
              "      <td>Male</td>\n",
              "      <td>Yes</td>\n",
              "      <td>0</td>\n",
              "      <td>Not Graduate</td>\n",
              "      <td>No</td>\n",
              "      <td>2583</td>\n",
              "      <td>2358.0</td>\n",
              "      <td>120.0</td>\n",
              "      <td>360.0</td>\n",
              "      <td>1.0</td>\n",
              "      <td>Urban</td>\n",
              "      <td>1</td>\n",
              "    </tr>\n",
              "    <tr>\n",
              "      <th>4</th>\n",
              "      <td>LP001008</td>\n",
              "      <td>Male</td>\n",
              "      <td>No</td>\n",
              "      <td>0</td>\n",
              "      <td>Graduate</td>\n",
              "      <td>No</td>\n",
              "      <td>6000</td>\n",
              "      <td>0.0</td>\n",
              "      <td>141.0</td>\n",
              "      <td>360.0</td>\n",
              "      <td>1.0</td>\n",
              "      <td>Urban</td>\n",
              "      <td>1</td>\n",
              "    </tr>\n",
              "  </tbody>\n",
              "</table>\n",
              "</div>"
            ],
            "text/plain": [
              "    Loan_ID Gender Married  ... Credit_History Property_Area Loan_Status\n",
              "0  LP001002   Male      No  ...            1.0         Urban           1\n",
              "1  LP001003   Male     Yes  ...            1.0         Rural           0\n",
              "2  LP001005   Male     Yes  ...            1.0         Urban           1\n",
              "3  LP001006   Male     Yes  ...            1.0         Urban           1\n",
              "4  LP001008   Male      No  ...            1.0         Urban           1\n",
              "\n",
              "[5 rows x 13 columns]"
            ]
          },
          "metadata": {
            "tags": []
          },
          "execution_count": 124
        }
      ]
    },
    {
      "cell_type": "markdown",
      "metadata": {
        "id": "jObi6HSYZC82",
        "colab_type": "text"
      },
      "source": [
        "Tiếp theo, ta sẽ quan sát mối tương quan giữa các biến số bằng các sử dụng hàm corr() của thư viện Pandas, kết quả cho ra một ma trận vuông với các ô là giá trị tương quan giữa các cặp biến số. Sau đó, ta sử dụng bản đồ nhiệt (heatmap) để hình dung mối tương quan bằng cách trực quan các giá trị qua màu sắc, các ô càng có màu đậm hơn có nghĩa mối tương quan nhiều hơn."
      ]
    },
    {
      "cell_type": "code",
      "metadata": {
        "id": "w0Ns5ssoazi5",
        "colab_type": "code",
        "colab": {
          "base_uri": "https://localhost:8080/",
          "height": 482
        },
        "outputId": "fb2fa040-d16f-407d-9709-27e20cca3c10"
      },
      "source": [
        "# calculate and visualize correlation matrix\n",
        "matrix = train.corr()\n",
        "f, ax = plt.subplots(figsize=(9, 6))\n",
        "sns.heatmap(matrix, vmax=1, square=True, cmap=\"BuPu\", annot=True)"
      ],
      "execution_count": 125,
      "outputs": [
        {
          "output_type": "execute_result",
          "data": {
            "text/plain": [
              "<matplotlib.axes._subplots.AxesSubplot at 0x7f2825985048>"
            ]
          },
          "metadata": {
            "tags": []
          },
          "execution_count": 125
        },
        {
          "output_type": "display_data",
          "data": {
            "image/png": "[encoded data removed]",
            "text/plain": [
              "<Figure size 648x432 with 2 Axes>"
            ]
          },
          "metadata": {
            "tags": [],
            "needs_background": "light"
          }
        }
      ]
    },
    {
      "cell_type": "markdown",
      "metadata": {
        "id": "PsOLt3fgbeIA",
        "colab_type": "text"
      },
      "source": [
        "Ta thấy các cặp biến có tương quan nhiều nhất là:\n",
        "*   ApplicantIncome - LoanAmount với hệ số tương quan là 0,57;\n",
        "*   Credit_History - Loan_Status với hệ số tương quan là 0,56;\n",
        "*   LoanAmount - CoapplicantIncome với hệ số tương quan là 0,19.\n"
      ]
    },
    {
      "cell_type": "markdown",
      "metadata": {
        "id": "sI89bQvqcHXy",
        "colab_type": "text"
      },
      "source": [
        "# <a name=\"\">**4. Data Pre-processing**</a>\n",
        "Tiền xử lý dữ liệu (Data Pre-processing) là một bước rất quan trọng trong việc giải quyết bất kỳ vấn đề nào trong lĩnh vực Machine Learning. Dữ liệu trong thế giới thực thường không đầy đủ, không nhất quán, thiếu một số hành vi, xu hướng nhất định và có khả năng chứa nhiều lỗi. Tiền xử lý dữ liệu là một phương pháp giải quyết các vấn đề đó.\n",
        "\n",
        "Cụ thể trong bài toán này, ta sẽ xử lý các dữ liệu bị thiếu và các ngoại lệ, vì chúng sẽ gây ảnh hưởng xấu đến kết của của mô hình."
      ]
    },
    {
      "cell_type": "markdown",
      "metadata": {
        "id": "rehczGZzjoR1",
        "colab_type": "text"
      },
      "source": [
        "## **Missing Value Imputation**\n",
        "Đầu tiên, chúng ta kiểm tra dữ liệu thiếu của các biến trong bộ dữ liệu."
      ]
    },
    {
      "cell_type": "code",
      "metadata": {
        "id": "C5GFon_QkRno",
        "colab_type": "code",
        "colab": {
          "base_uri": "https://localhost:8080/",
          "height": 252
        },
        "outputId": "b0ed0bcc-60e9-4a16-ef18-4632da2e961d"
      },
      "source": [
        "# check for missing values in train set\n",
        "train.isnull().sum().sort_values(ascending=False)"
      ],
      "execution_count": 126,
      "outputs": [
        {
          "output_type": "execute_result",
          "data": {
            "text/plain": [
              "Credit_History       50\n",
              "Self_Employed        32\n",
              "LoanAmount           22\n",
              "Dependents           15\n",
              "Loan_Amount_Term     14\n",
              "Gender               13\n",
              "Married               3\n",
              "Loan_Status           0\n",
              "Property_Area         0\n",
              "CoapplicantIncome     0\n",
              "ApplicantIncome       0\n",
              "Education             0\n",
              "Loan_ID               0\n",
              "dtype: int64"
            ]
          },
          "metadata": {
            "tags": []
          },
          "execution_count": 126
        }
      ]
    },
    {
      "cell_type": "code",
      "metadata": {
        "id": "7j6n-488k1t9",
        "colab_type": "code",
        "colab": {
          "base_uri": "https://localhost:8080/",
          "height": 235
        },
        "outputId": "634864e1-e28f-4183-da40-3c13289734bd"
      },
      "source": [
        "# check for missing values in test set\n",
        "test.isnull().sum().sort_values(ascending=False)"
      ],
      "execution_count": 127,
      "outputs": [
        {
          "output_type": "execute_result",
          "data": {
            "text/plain": [
              "Credit_History       29\n",
              "Self_Employed        23\n",
              "Gender               11\n",
              "Dependents           10\n",
              "Loan_Amount_Term      6\n",
              "LoanAmount            5\n",
              "Property_Area         0\n",
              "CoapplicantIncome     0\n",
              "ApplicantIncome       0\n",
              "Education             0\n",
              "Married               0\n",
              "Loan_ID               0\n",
              "dtype: int64"
            ]
          },
          "metadata": {
            "tags": []
          },
          "execution_count": 127
        }
      ]
    },
    {
      "cell_type": "markdown",
      "metadata": {
        "id": "NaWPTOnzl4oS",
        "colab_type": "text"
      },
      "source": [
        "Ta thấy các biến có giá trị bị thiếu gồm: Gender, Married, Dependents, Self_Employed, LoanAmount, Loan_Amount_Term và Credit_History. Ta sẽ lần lượt xử lý các dữ liệu bị thiếu trong từng biến.\n",
        "\n",
        "Ta sẽ xem xét hai phương thức để điền vào các dữ liệu bị thiếu:\n",
        "*   Đối với các biến số (numerical variables): điền vào bằng giá trị trung bình (mean) hoặc trung vị (median);\n",
        "*   Đối với các biến phân loại (categorical variables): điền vào bằng giá trị có tần số xuất hiện nhiều nhất (mode).\n",
        "\n",
        "Đầu tiên là các biến phân loại (categorical variables)."
      ]
    },
    {
      "cell_type": "code",
      "metadata": {
        "id": "H6--DcDipNer",
        "colab_type": "code",
        "colab": {}
      },
      "source": [
        "# replace missing values with the mode\n",
        "train['Gender'].fillna(train['Gender'].mode()[0], inplace=True)\n",
        "train['Married'].fillna(train['Married'].mode()[0], inplace=True)\n",
        "train['Dependents'].fillna(train['Dependents'].mode()[0], inplace=True)\n",
        "train['Self_Employed'].fillna(train['Self_Employed'].mode()[0], inplace=True)\n",
        "train['Credit_History'].fillna(train['Credit_History'].mode()[0], inplace=True)\n",
        "train['Loan_Amount_Term'].fillna(train['Loan_Amount_Term'].mode()[0], inplace=True)"
      ],
      "execution_count": 128,
      "outputs": []
    },
    {
      "cell_type": "markdown",
      "metadata": {
        "id": "ZPQmeQe6pv53",
        "colab_type": "text"
      },
      "source": [
        "Tiếp theo, ta xem xét biến LoanAmount. Bởi vì LoanAmount là biến số (Numerical variable) nên ta sẽ dụng trung bình hoặc trung vị, tuy nhiên như đã xét ở phần trước, biến LoanAmount có rất nhiều ngoại lệ, giá trị trung bình sẽ bị ảnh hưởng bởi các ngoại lệ này nên ta quyết định chọn giá trị trung vị để điền vào dữ liệu bị thiếu."
      ]
    },
    {
      "cell_type": "code",
      "metadata": {
        "id": "ODwyL81mpvR0",
        "colab_type": "code",
        "colab": {}
      },
      "source": [
        "# replace missing values with the median value due to outliers\n",
        "train['LoanAmount'].fillna(train['LoanAmount'].median(), inplace=True)"
      ],
      "execution_count": 129,
      "outputs": []
    },
    {
      "cell_type": "code",
      "metadata": {
        "id": "UVYLQDEYrf42",
        "colab_type": "code",
        "colab": {
          "base_uri": "https://localhost:8080/",
          "height": 252
        },
        "outputId": "a7d07e61-6bba-41a3-b2ca-29f92b148453"
      },
      "source": [
        "# check whether all the missing values are filled in the Train dataset\n",
        "train.isnull().sum()"
      ],
      "execution_count": 130,
      "outputs": [
        {
          "output_type": "execute_result",
          "data": {
            "text/plain": [
              "Loan_ID              0\n",
              "Gender               0\n",
              "Married              0\n",
              "Dependents           0\n",
              "Education            0\n",
              "Self_Employed        0\n",
              "ApplicantIncome      0\n",
              "CoapplicantIncome    0\n",
              "LoanAmount           0\n",
              "Loan_Amount_Term     0\n",
              "Credit_History       0\n",
              "Property_Area        0\n",
              "Loan_Status          0\n",
              "dtype: int64"
            ]
          },
          "metadata": {
            "tags": []
          },
          "execution_count": 130
        }
      ]
    },
    {
      "cell_type": "markdown",
      "metadata": {
        "id": "UvIF0JvOr5ed",
        "colab_type": "text"
      },
      "source": [
        "Các giá trị bị thiếu trong tập train đã được xử lý, tiếp theo ta xử lý trên tập test. Lưu ý, ta sẽ dùng các giá trị trung bình, trung vị hoặc mode của tập train để điền vào các dữ liệu thiếu ở tập test."
      ]
    },
    {
      "cell_type": "code",
      "metadata": {
        "id": "w1Pz3DFvuWtc",
        "colab_type": "code",
        "colab": {}
      },
      "source": [
        "# replace missing values in Test set with mode/median from Training set\n",
        "test['Gender'].fillna(train['Gender'].mode()[0], inplace=True)\n",
        "test['Dependents'].fillna(train['Dependents'].mode()[0], inplace=True)\n",
        "test['Self_Employed'].fillna(train['Self_Employed'].mode()[0], inplace=True)\n",
        "test['Credit_History'].fillna(train['Credit_History'].mode()[0], inplace=True)\n",
        "test['Loan_Amount_Term'].fillna(train['Loan_Amount_Term'].mode()[0], inplace=True)\n",
        "test['LoanAmount'].fillna(train['LoanAmount'].median(), inplace=True)"
      ],
      "execution_count": 131,
      "outputs": []
    },
    {
      "cell_type": "code",
      "metadata": {
        "id": "_rFNqOcDuYaP",
        "colab_type": "code",
        "colab": {
          "base_uri": "https://localhost:8080/",
          "height": 235
        },
        "outputId": "d7424a30-fc99-4e0b-fc66-64598344f274"
      },
      "source": [
        "# check whether all the missing values are filled in the Test dataset\n",
        "test.isnull().sum()"
      ],
      "execution_count": 132,
      "outputs": [
        {
          "output_type": "execute_result",
          "data": {
            "text/plain": [
              "Loan_ID              0\n",
              "Gender               0\n",
              "Married              0\n",
              "Dependents           0\n",
              "Education            0\n",
              "Self_Employed        0\n",
              "ApplicantIncome      0\n",
              "CoapplicantIncome    0\n",
              "LoanAmount           0\n",
              "Loan_Amount_Term     0\n",
              "Credit_History       0\n",
              "Property_Area        0\n",
              "dtype: int64"
            ]
          },
          "metadata": {
            "tags": []
          },
          "execution_count": 132
        }
      ]
    },
    {
      "cell_type": "markdown",
      "metadata": {
        "id": "uiLD42gOucO1",
        "colab_type": "text"
      },
      "source": [
        "Dữ liệu của ta đã hoàn toàn đầy đủ."
      ]
    },
    {
      "cell_type": "markdown",
      "metadata": {
        "id": "8-eJj7yiwBbS",
        "colab_type": "text"
      },
      "source": [
        "## **Outlier Treatment**\n",
        "Như ta đã thấy ở phần phân tích đơn biến (Univariate analysis), biến LoanAmount chứa nhiều ngoại lệ, do đó chúng sẽ ảnh hưởng đến giá trị trung bình, độ lệch chuẩn dẫn đến ảnh hưởng phân phối của biển. Cụ thể, phần lớn dữ liệu trong LoanAmount nằm bên phía bên trái và đuôi bên phải dài hơn. Do đó phân phối bị lệch phải (lệch dương). Ta dùng log transformation để xử lý vấn đề này. Thực hiện log transformation sẽ không ảnh hưởng nhiều đến các giá trị nhỏ, nhưng làm giảm các giá trị ngoại lệ một cách rõ rệt. Vì vậy, chúng ta sẽ biến phân phối LoanAmount về dạng giống phân phối chuẩn hơn."
      ]
    },
    {
      "cell_type": "code",
      "metadata": {
        "id": "49T3CGkqGej_",
        "colab_type": "code",
        "colab": {
          "base_uri": "https://localhost:8080/",
          "height": 312
        },
        "outputId": "863b4d85-2196-4d87-b615-c1347f53aa60"
      },
      "source": [
        "# before log transformation\n",
        "ax1 = plt.subplot(121)\n",
        "train['LoanAmount'].hist(bins=20, figsize=(12,4))\n",
        "ax1.set_title(\"Train\")\n",
        "ax1.set_xlabel(\"LoanAmount\")\n",
        "\n",
        "ax2 = plt.subplot(122)\n",
        "test['LoanAmount'].hist(bins=20)\n",
        "ax2.set_title(\"Test\")\n",
        "ax2.set_xlabel(\"LoanAmount\")"
      ],
      "execution_count": 133,
      "outputs": [
        {
          "output_type": "execute_result",
          "data": {
            "text/plain": [
              "Text(0.5, 0, 'LoanAmount')"
            ]
          },
          "metadata": {
            "tags": []
          },
          "execution_count": 133
        },
        {
          "output_type": "display_data",
          "data": {
            "image/png": "[encoded data removed]",
            "text/plain": [
              "<Figure size 864x288 with 2 Axes>"
            ]
          },
          "metadata": {
            "tags": [],
            "needs_background": "light"
          }
        }
      ]
    },
    {
      "cell_type": "code",
      "metadata": {
        "id": "Xp48SzrsGxcW",
        "colab_type": "code",
        "colab": {}
      },
      "source": [
        "# remove skewness in LoanAmount variable by log transformation\n",
        "train['LoanAmount_log'] = np.log(train['LoanAmount'])\n",
        "test['LoanAmount_log'] = np.log(test['LoanAmount'])"
      ],
      "execution_count": 134,
      "outputs": []
    },
    {
      "cell_type": "code",
      "metadata": {
        "id": "lZMUqS0-G9K0",
        "colab_type": "code",
        "colab": {
          "base_uri": "https://localhost:8080/",
          "height": 313
        },
        "outputId": "c0c6789e-40a2-4f93-950d-f7013edd523d"
      },
      "source": [
        "# after log transformation\n",
        "ax1 = plt.subplot(121)\n",
        "train['LoanAmount_log'].hist(bins=20, figsize=(12,4))\n",
        "ax1.set_title(\"Train\")\n",
        "ax1.set_xlabel(\"LoanAmount_log\")\n",
        "\n",
        "ax2 = plt.subplot(122)\n",
        "test['LoanAmount_log'].hist(bins=20)\n",
        "ax2.set_title(\"Test\")\n",
        "ax2.set_xlabel(\"LoanAmount_log\")"
      ],
      "execution_count": 135,
      "outputs": [
        {
          "output_type": "execute_result",
          "data": {
            "text/plain": [
              "Text(0.5, 0, 'LoanAmount_log')"
            ]
          },
          "metadata": {
            "tags": []
          },
          "execution_count": 135
        },
        {
          "output_type": "display_data",
          "data": {
            "image/png": "[encoded data removed]",
            "text/plain": [
              "<Figure size 864x288 with 2 Axes>"
            ]
          },
          "metadata": {
            "tags": [],
            "needs_background": "light"
          }
        }
      ]
    },
    {
      "cell_type": "markdown",
      "metadata": {
        "id": "WMaIhp6S4-3j",
        "colab_type": "text"
      },
      "source": [
        "Sau khi xử lý bằng log transform, phân phối của biến LoanAmount giống phân phối chuẩn hơn, ảnh hưởng của các giá trị ngoại lệ đã giảm đi đáng kể."
      ]
    },
    {
      "cell_type": "markdown",
      "metadata": {
        "id": "E5rNk5sSJRGM",
        "colab_type": "text"
      },
      "source": [
        "# <a name=\"\">**5. Model Development**</a>"
      ]
    },
    {
      "cell_type": "markdown",
      "metadata": {
        "id": "H_wY9B9IU5uK",
        "colab_type": "text"
      },
      "source": [
        "## **Model Building: Part I**\n",
        "Đầu tiên, ta xoá bỏ biến Loan_ID vì đó là biến định danh các ứng viên, không có bất kỳ ảnh hưởng nào đến biến mục tiêu Loan_Status. Ta thực hiện xoá bỏ trên cả tập train và test."
      ]
    },
    {
      "cell_type": "code",
      "metadata": {
        "id": "NmmFlyxlIJ7v",
        "colab_type": "code",
        "colab": {}
      },
      "source": [
        "# drop Loan_ID \n",
        "train = train.drop('Loan_ID', axis=1)\n",
        "test = test.drop('Loan_ID', axis=1)"
      ],
      "execution_count": 136,
      "outputs": []
    },
    {
      "cell_type": "markdown",
      "metadata": {
        "id": "BH1_DT4hafE5",
        "colab_type": "text"
      },
      "source": [
        "Ta gán các biến độc lập vào biến X, biến mục tiêu vào biến y để chuẩn bị quá trình huấn luyện mô hình. "
      ]
    },
    {
      "cell_type": "code",
      "metadata": {
        "id": "lhTbWdM7JlSz",
        "colab_type": "code",
        "colab": {}
      },
      "source": [
        "# drop \"Loan_Status\" and assign it to target variable\n",
        "X = train.drop('Loan_Status', axis=1)\n",
        "y = train.Loan_Status"
      ],
      "execution_count": 137,
      "outputs": []
    },
    {
      "cell_type": "markdown",
      "metadata": {
        "id": "DqmKjKFvagpF",
        "colab_type": "text"
      },
      "source": [
        "Ta sẽ sử dụng hàm get_dummies() trong thư viện Pandas để biến chuyển các biến độc lập phân loại có kiểu dữ liệu \"object\" thành kiểu số."
      ]
    },
    {
      "cell_type": "code",
      "metadata": {
        "id": "Bd5EjCDFJt47",
        "colab_type": "code",
        "colab": {}
      },
      "source": [
        "# adding dummies to the dataset\n",
        "X = pd.get_dummies(X)\n",
        "train = pd.get_dummies(train)\n",
        "test = pd.get_dummies(test)"
      ],
      "execution_count": 138,
      "outputs": []
    },
    {
      "cell_type": "code",
      "metadata": {
        "id": "iu-Ajiu4Jz2s",
        "colab_type": "code",
        "colab": {
          "base_uri": "https://localhost:8080/",
          "height": 34
        },
        "outputId": "27dbba95-663e-46df-aa09-023455a58b36"
      },
      "source": [
        "# show the shape of the dataset\n",
        "X.shape, train.shape, test.shape"
      ],
      "execution_count": 139,
      "outputs": [
        {
          "output_type": "execute_result",
          "data": {
            "text/plain": [
              "((614, 21), (614, 22), (367, 21))"
            ]
          },
          "metadata": {
            "tags": []
          },
          "execution_count": 139
        }
      ]
    },
    {
      "cell_type": "code",
      "metadata": {
        "id": "OdLs6yjIJ1Fm",
        "colab_type": "code",
        "colab": {
          "base_uri": "https://localhost:8080/",
          "height": 232
        },
        "outputId": "a18f7273-57c3-47e1-e442-2a6dcb3bb9d7"
      },
      "source": [
        "# take a look at the top 5 rows of X\n",
        "X.head()"
      ],
      "execution_count": 140,
      "outputs": [
        {
          "output_type": "execute_result",
          "data": {
            "text/html": [
              "<div>\n",
              "<style scoped>\n",
              "    .dataframe tbody tr th:only-of-type {\n",
              "        vertical-align: middle;\n",
              "    }\n",
              "\n",
              "    .dataframe tbody tr th {\n",
              "        vertical-align: top;\n",
              "    }\n",
              "\n",
              "    .dataframe thead th {\n",
              "        text-align: right;\n",
              "    }\n",
              "</style>\n",
              "<table border=\"1\" class=\"dataframe\">\n",
              "  <thead>\n",
              "    <tr style=\"text-align: right;\">\n",
              "      <th></th>\n",
              "      <th>ApplicantIncome</th>\n",
              "      <th>CoapplicantIncome</th>\n",
              "      <th>LoanAmount</th>\n",
              "      <th>Loan_Amount_Term</th>\n",
              "      <th>Credit_History</th>\n",
              "      <th>LoanAmount_log</th>\n",
              "      <th>Gender_Female</th>\n",
              "      <th>Gender_Male</th>\n",
              "      <th>Married_No</th>\n",
              "      <th>Married_Yes</th>\n",
              "      <th>Dependents_3</th>\n",
              "      <th>Dependents_0</th>\n",
              "      <th>Dependents_1</th>\n",
              "      <th>Dependents_2</th>\n",
              "      <th>Education_Graduate</th>\n",
              "      <th>Education_Not Graduate</th>\n",
              "      <th>Self_Employed_No</th>\n",
              "      <th>Self_Employed_Yes</th>\n",
              "      <th>Property_Area_Rural</th>\n",
              "      <th>Property_Area_Semiurban</th>\n",
              "      <th>Property_Area_Urban</th>\n",
              "    </tr>\n",
              "  </thead>\n",
              "  <tbody>\n",
              "    <tr>\n",
              "      <th>0</th>\n",
              "      <td>5849</td>\n",
              "      <td>0.0</td>\n",
              "      <td>128.0</td>\n",
              "      <td>360.0</td>\n",
              "      <td>1.0</td>\n",
              "      <td>4.852030</td>\n",
              "      <td>0</td>\n",
              "      <td>1</td>\n",
              "      <td>1</td>\n",
              "      <td>0</td>\n",
              "      <td>0</td>\n",
              "      <td>1</td>\n",
              "      <td>0</td>\n",
              "      <td>0</td>\n",
              "      <td>1</td>\n",
              "      <td>0</td>\n",
              "      <td>1</td>\n",
              "      <td>0</td>\n",
              "      <td>0</td>\n",
              "      <td>0</td>\n",
              "      <td>1</td>\n",
              "    </tr>\n",
              "    <tr>\n",
              "      <th>1</th>\n",
              "      <td>4583</td>\n",
              "      <td>1508.0</td>\n",
              "      <td>128.0</td>\n",
              "      <td>360.0</td>\n",
              "      <td>1.0</td>\n",
              "      <td>4.852030</td>\n",
              "      <td>0</td>\n",
              "      <td>1</td>\n",
              "      <td>0</td>\n",
              "      <td>1</td>\n",
              "      <td>0</td>\n",
              "      <td>0</td>\n",
              "      <td>1</td>\n",
              "      <td>0</td>\n",
              "      <td>1</td>\n",
              "      <td>0</td>\n",
              "      <td>1</td>\n",
              "      <td>0</td>\n",
              "      <td>1</td>\n",
              "      <td>0</td>\n",
              "      <td>0</td>\n",
              "    </tr>\n",
              "    <tr>\n",
              "      <th>2</th>\n",
              "      <td>3000</td>\n",
              "      <td>0.0</td>\n",
              "      <td>66.0</td>\n",
              "      <td>360.0</td>\n",
              "      <td>1.0</td>\n",
              "      <td>4.189655</td>\n",
              "      <td>0</td>\n",
              "      <td>1</td>\n",
              "      <td>0</td>\n",
              "      <td>1</td>\n",
              "      <td>0</td>\n",
              "      <td>1</td>\n",
              "      <td>0</td>\n",
              "      <td>0</td>\n",
              "      <td>1</td>\n",
              "      <td>0</td>\n",
              "      <td>0</td>\n",
              "      <td>1</td>\n",
              "      <td>0</td>\n",
              "      <td>0</td>\n",
              "      <td>1</td>\n",
              "    </tr>\n",
              "    <tr>\n",
              "      <th>3</th>\n",
              "      <td>2583</td>\n",
              "      <td>2358.0</td>\n",
              "      <td>120.0</td>\n",
              "      <td>360.0</td>\n",
              "      <td>1.0</td>\n",
              "      <td>4.787492</td>\n",
              "      <td>0</td>\n",
              "      <td>1</td>\n",
              "      <td>0</td>\n",
              "      <td>1</td>\n",
              "      <td>0</td>\n",
              "      <td>1</td>\n",
              "      <td>0</td>\n",
              "      <td>0</td>\n",
              "      <td>0</td>\n",
              "      <td>1</td>\n",
              "      <td>1</td>\n",
              "      <td>0</td>\n",
              "      <td>0</td>\n",
              "      <td>0</td>\n",
              "      <td>1</td>\n",
              "    </tr>\n",
              "    <tr>\n",
              "      <th>4</th>\n",
              "      <td>6000</td>\n",
              "      <td>0.0</td>\n",
              "      <td>141.0</td>\n",
              "      <td>360.0</td>\n",
              "      <td>1.0</td>\n",
              "      <td>4.948760</td>\n",
              "      <td>0</td>\n",
              "      <td>1</td>\n",
              "      <td>1</td>\n",
              "      <td>0</td>\n",
              "      <td>0</td>\n",
              "      <td>1</td>\n",
              "      <td>0</td>\n",
              "      <td>0</td>\n",
              "      <td>1</td>\n",
              "      <td>0</td>\n",
              "      <td>1</td>\n",
              "      <td>0</td>\n",
              "      <td>0</td>\n",
              "      <td>0</td>\n",
              "      <td>1</td>\n",
              "    </tr>\n",
              "  </tbody>\n",
              "</table>\n",
              "</div>"
            ],
            "text/plain": [
              "   ApplicantIncome  ...  Property_Area_Urban\n",
              "0             5849  ...                    1\n",
              "1             4583  ...                    0\n",
              "2             3000  ...                    1\n",
              "3             2583  ...                    1\n",
              "4             6000  ...                    1\n",
              "\n",
              "[5 rows x 21 columns]"
            ]
          },
          "metadata": {
            "tags": []
          },
          "execution_count": 140
        }
      ]
    },
    {
      "cell_type": "markdown",
      "metadata": {
        "id": "C-06S9t78-HT",
        "colab_type": "text"
      },
      "source": [
        "### **Deafault Logistic Regression**"
      ]
    },
    {
      "cell_type": "markdown",
      "metadata": {
        "id": "TjgLyqFdDu-Z",
        "colab_type": "text"
      },
      "source": [
        "**Mô hình 1:** Chúng ta sẽ sử dụng mô hình Logistic Regression với các tham số mặc định để dự đoán bài toán phân lớp nhị phân này. Sử dụng các đọ đo Accuracy, Precison, Recall và F1-score để đánh giá mô hình."
      ]
    },
    {
      "cell_type": "code",
      "metadata": {
        "id": "auxxs6wODcBX",
        "colab_type": "code",
        "colab": {}
      },
      "source": [
        "# import libraries\n",
        "from sklearn.linear_model import LogisticRegression\n",
        "from sklearn.metrics import accuracy_score, precision_score, recall_score, f1_score"
      ],
      "execution_count": 141,
      "outputs": []
    },
    {
      "cell_type": "markdown",
      "metadata": {
        "id": "QWcc-3I7EAGZ",
        "colab_type": "text"
      },
      "source": [
        "Cross-validation là một phương pháp kiểm tra độ chính xác của một mô hình dựa trên một tập dữ liệu học cho trước. Thay vì chỉ dùng một phần dữ liệu làm tập dữ liệu học thì cross-validation dùng toàn bộ dữ liệu để dạy cho máy. Cụ thể ở bài toán này, ta sử dụng phương pháp Stratified K-ford Cross Validation"
      ]
    },
    {
      "cell_type": "code",
      "metadata": {
        "id": "QrHHWM6crnOt",
        "colab_type": "code",
        "colab": {
          "base_uri": "https://localhost:8080/",
          "height": 605
        },
        "outputId": "201c9d18-b705-4474-9c30-4616913c3d57"
      },
      "source": [
        "# import StratifiedKFold from sklearn and fit the model\n",
        "from sklearn.model_selection import StratifiedKFold\n",
        "\n",
        "list_accuracy = []\n",
        "list_precision = []\n",
        "list_recall = []\n",
        "list_f1 = []\n",
        "i = 1\n",
        "\n",
        "kf = StratifiedKFold(n_splits=5, random_state=0, shuffle=True)\n",
        "for train_index, test_index in kf.split(X, y):\n",
        "    print('\\n{} of kfold {}'.format(i, kf.n_splits))\n",
        "    xtr, xvl = X.loc[train_index], X.loc[test_index]\n",
        "    ytr, yvl = y[train_index], y[test_index]\n",
        "    \n",
        "    model = LogisticRegression()\n",
        "    model.fit(xtr, ytr)\n",
        "    pred_test = model.predict(xvl)\n",
        "    \n",
        "    acc = accuracy_score(yvl, pred_test)\n",
        "    pre = precision_score(yvl, pred_test)\n",
        "    rec = recall_score(yvl, pred_test)\n",
        "    f1 = f1_score(yvl, pred_test)\n",
        "\n",
        "    list_accuracy.append(acc)\n",
        "    print('accuracy_score', acc)\n",
        "    list_precision.append(pre)\n",
        "    print('precision_score', pre)\n",
        "    list_recall.append(rec)\n",
        "    print('recall_score', rec)\n",
        "    list_f1.append(f1)\n",
        "    print('f1_score', f1)\n",
        "    i+=1\n",
        "    \n",
        "mean_acc = sum(list_accuracy)/len(list_accuracy)\n",
        "mean_pre = sum(list_precision)/len(list_precision)\n",
        "mean_rec = sum(list_recall)/len(list_recall)\n",
        "mean_f1 = sum(list_f1)/len(list_f1)\n",
        "\n",
        "print(\"\\nMean validation accuracy: \", mean_acc)\n",
        "print(\"Mean validation precision: \", mean_pre)\n",
        "print(\"Mean validation recall: \", mean_rec)\n",
        "print(\"Mean validation f1: \", mean_f1)\n",
        "\n",
        "result1 = [mean_acc, mean_pre, mean_rec, mean_f1]"
      ],
      "execution_count": 142,
      "outputs": [
        {
          "output_type": "stream",
          "text": [
            "\n",
            "1 of kfold 5\n",
            "accuracy_score 0.7804878048780488\n",
            "precision_score 0.7843137254901961\n",
            "recall_score 0.9411764705882353\n",
            "f1_score 0.8556149732620321\n",
            "\n",
            "2 of kfold 5\n",
            "accuracy_score 0.7886178861788617\n",
            "precision_score 0.780952380952381\n",
            "recall_score 0.9647058823529412\n",
            "f1_score 0.8631578947368421\n",
            "\n",
            "3 of kfold 5\n",
            "accuracy_score 0.8211382113821138\n",
            "precision_score 0.7924528301886793\n",
            "recall_score 1.0\n",
            "f1_score 0.8842105263157896\n",
            "\n",
            "4 of kfold 5\n",
            "accuracy_score 0.7967479674796748\n",
            "precision_score 0.7920792079207921\n",
            "recall_score 0.9523809523809523\n",
            "f1_score 0.8648648648648649\n",
            "\n",
            "5 of kfold 5\n",
            "accuracy_score 0.819672131147541\n",
            "precision_score 0.81\n",
            "recall_score 0.9642857142857143\n",
            "f1_score 0.8804347826086957\n",
            "\n",
            "Mean validation accuracy:  0.801332800213248\n",
            "Mean validation precision:  0.7919596289104096\n",
            "Mean validation recall:  0.9645098039215686\n",
            "Mean validation f1:  0.8696566083576448\n"
          ],
          "name": "stdout"
        }
      ]
    },
    {
      "cell_type": "markdown",
      "metadata": {
        "id": "YsLytmnOzneq",
        "colab_type": "text"
      },
      "source": [
        "## **Feature Engineering**\n",
        "Feature Engineering là một kỹ thuật trích xuất, trích chọn hoặc tạo ra các đặc trưng quan trọng từ dữ liệu thô để sử dụng làm đại diện cho các mẫu dữ liệu huấn luyện. Một tập dữ liệu huấn luyện có thể có rất nhiều thuộc tính, nhưng không phải thuộc tính nào cũng cần thiết và quan trọng. Feature engineering là kỹ thuật giúp loại bỏ các thuộc tính dư thừa, làm đơn giản hóa quá trình biểu diễn dữ liệu nhưng không làm ảnh hưởng tới kết quả cuối cùng. Feature Engineering là một bước quan trọng trong lĩnh vực Machine Learning."
      ]
    },
    {
      "cell_type": "markdown",
      "metadata": {
        "id": "ATSxHJ6UD6pN",
        "colab_type": "text"
      },
      "source": [
        "### **Feature Selection**\n",
        "Ta tiến hành loại bỏ những biến dư thừa, không có ảnh hưởng đến biến mục tiêu. Thông qua kết quả phân tích trong phần Univariate Analysis, ta cần loại bỏ biến Gender và Self_Employed."
      ]
    },
    {
      "cell_type": "code",
      "metadata": {
        "id": "limkq7_sF-EH",
        "colab_type": "code",
        "colab": {}
      },
      "source": [
        "# drop the variables\n",
        "train = train.drop(['Gender_Male', 'Gender_Female', 'Self_Employed_Yes', 'Self_Employed_No'], axis=1)\n",
        "test = test.drop(['Gender_Male', 'Gender_Female', 'Self_Employed_Yes', 'Self_Employed_No'], axis=1)"
      ],
      "execution_count": 143,
      "outputs": []
    },
    {
      "cell_type": "markdown",
      "metadata": {
        "id": "pVKpVDy_Gi6Z",
        "colab_type": "text"
      },
      "source": [
        "### **Feature Construction**\n",
        "Chúng ta có thể tạo ra các biến mới có thể ảnh hưởng đến biến mục tiêu, cụ thể là ba biến mới sau đây:\n",
        "\n",
        "*   **Total_Income (Total Income)** - Như đã thảo luận trong phần Bivariate Analysis, ta sẽ kết hợp thu nhập của ứng viên (ApplicantIncome) và thu nhập của đồng ứng viên (CoapplicantIncome).  Nếu tổng thu nhập cao, cơ hội phê duyệt cho vay cũng có thể cao.\n",
        "*   **EMI (Equated Monthly Installment)** - là số tiền hàng tháng mà các ứng viên phải trả để trả nợ.  Ý tưởng đằng sau việc tạo ra biến này là những người có EMI cao có thể gặp khó khăn trong việc trả lại khoản vay.  Ta có thể tính toán EMI bằng cách lấy tỷ lệ của khoản vay (LoanAmount) đối với thời hạn cho vay (Loan_Amount_Term).\n",
        "*   **Balance_Income (Balance Income)** - Đây là thu nhập còn lại sau khi EMI đã được thanh toán.  Ý tưởng đằng sau việc tạo ra biến này là nếu giá trị này cao, khả năng cao là một người sẽ trả nợ và do đó làm tăng cơ hội phê duyệt khoản vay."
      ]
    },
    {
      "cell_type": "code",
      "metadata": {
        "id": "Rrvz7E29KqKb",
        "colab_type": "code",
        "colab": {}
      },
      "source": [
        "# combine ApplicantIncome and CoapplicantIncome into a new variable Total_Income\n",
        "train['Total_Income'] = train['ApplicantIncome'] + train['CoapplicantIncome']\n",
        "test['Total_Income'] = test['ApplicantIncome'] + test['CoapplicantIncome']"
      ],
      "execution_count": 144,
      "outputs": []
    },
    {
      "cell_type": "code",
      "metadata": {
        "id": "6gH9QJnjK5Y-",
        "colab_type": "code",
        "colab": {
          "base_uri": "https://localhost:8080/",
          "height": 313
        },
        "outputId": "29210a7b-c6f9-4b3e-d2df-f80956bb01e4"
      },
      "source": [
        "# check the distribution of Total_Income\n",
        "# before log transformation\n",
        "fig = plt.figure(figsize=(14,4))\n",
        "ax1 = plt.subplot(121)\n",
        "sns.distplot(train['Total_Income'])\n",
        "ax1.set_title(\"Train\")\n",
        "\n",
        "ax1 = plt.subplot(122)\n",
        "sns.distplot(test['Total_Income'])\n",
        "ax1.set_title(\"Test\")"
      ],
      "execution_count": 145,
      "outputs": [
        {
          "output_type": "execute_result",
          "data": {
            "text/plain": [
              "Text(0.5, 1.0, 'Test')"
            ]
          },
          "metadata": {
            "tags": []
          },
          "execution_count": 145
        },
        {
          "output_type": "display_data",
          "data": {
            "image/png": "[encoded data removed]",
            "text/plain": [
              "<Figure size 1008x288 with 2 Axes>"
            ]
          },
          "metadata": {
            "tags": [],
            "needs_background": "light"
          }
        }
      ]
    },
    {
      "cell_type": "markdown",
      "metadata": {
        "id": "yHOvmHwoLjDn",
        "colab_type": "text"
      },
      "source": [
        "Ta thấy phân phối của biến bị lệch phải, vì vậy ta sử dụng log transformation để đưa phân phối về dạng phân phối chuẩn."
      ]
    },
    {
      "cell_type": "code",
      "metadata": {
        "id": "AvK9_fWRL7pC",
        "colab_type": "code",
        "colab": {}
      },
      "source": [
        "# log transformation\n",
        "train['Total_Income_log'] = np.log(train['Total_Income'])\n",
        "test['Total_Income_log'] = np.log(test['Total_Income'])"
      ],
      "execution_count": 146,
      "outputs": []
    },
    {
      "cell_type": "code",
      "metadata": {
        "id": "4f8DBAZZMAqm",
        "colab_type": "code",
        "colab": {
          "base_uri": "https://localhost:8080/",
          "height": 313
        },
        "outputId": "ff273148-a929-4037-e1da-a1fec745adf2"
      },
      "source": [
        "# after log transformation\n",
        "fig = plt.figure(figsize=(14,4))\n",
        "ax1 = plt.subplot(121)\n",
        "sns.distplot(train['Total_Income_log'])\n",
        "ax1.set_title(\"Train\")\n",
        "\n",
        "ax1 = plt.subplot(122)\n",
        "sns.distplot(test['Total_Income_log'])\n",
        "ax1.set_title(\"Test\")"
      ],
      "execution_count": 147,
      "outputs": [
        {
          "output_type": "execute_result",
          "data": {
            "text/plain": [
              "Text(0.5, 1.0, 'Test')"
            ]
          },
          "metadata": {
            "tags": []
          },
          "execution_count": 147
        },
        {
          "output_type": "display_data",
          "data": {
            "image/png": "[encoded data removed]",
            "text/plain": [
              "<Figure size 1008x288 with 2 Axes>"
            ]
          },
          "metadata": {
            "tags": [],
            "needs_background": "light"
          }
        }
      ]
    },
    {
      "cell_type": "markdown",
      "metadata": {
        "id": "Nhe7meH1MFbR",
        "colab_type": "text"
      },
      "source": [
        "Bây giờ phân phối có dạng phân phối chuẩn hơn và ảnh hưởng của các giá trị ngoại lệ đã giảm đi đáng kể. \n",
        "\n",
        "Tiếp theo ta sẽ tạo biến EMI và Balance_Income, ta cũng sử dụng log transformation để đưa phân phối về dạng phân phối chuẩn."
      ]
    },
    {
      "cell_type": "code",
      "metadata": {
        "id": "VG3e8nb-Mo8I",
        "colab_type": "code",
        "colab": {}
      },
      "source": [
        "# create EMI feature\n",
        "train['EMI'] = train['LoanAmount'] / train['Loan_Amount_Term']\n",
        "test['EMI'] = test['LoanAmount'] / test['Loan_Amount_Term']"
      ],
      "execution_count": 148,
      "outputs": []
    },
    {
      "cell_type": "code",
      "metadata": {
        "id": "FJcBmYd0M7Nd",
        "colab_type": "code",
        "colab": {
          "base_uri": "https://localhost:8080/",
          "height": 312
        },
        "outputId": "1ff4ace9-b5d3-4e12-9e3a-897765a12e0b"
      },
      "source": [
        "# check the distribution of EMI\n",
        "# before log transformation\n",
        "fig = plt.figure(figsize=(14,4))\n",
        "ax1 = plt.subplot(121)\n",
        "sns.distplot(train['EMI'])\n",
        "ax1.set_title(\"Train\")\n",
        "\n",
        "ax1 = plt.subplot(122)\n",
        "sns.distplot(test['EMI'])\n",
        "ax1.set_title(\"Test\")"
      ],
      "execution_count": 149,
      "outputs": [
        {
          "output_type": "execute_result",
          "data": {
            "text/plain": [
              "Text(0.5, 1.0, 'Test')"
            ]
          },
          "metadata": {
            "tags": []
          },
          "execution_count": 149
        },
        {
          "output_type": "display_data",
          "data": {
            "image/png": "[encoded data removed]",
            "text/plain": [
              "<Figure size 1008x288 with 2 Axes>"
            ]
          },
          "metadata": {
            "tags": [],
            "needs_background": "light"
          }
        }
      ]
    },
    {
      "cell_type": "code",
      "metadata": {
        "id": "t8tpcih2NHMl",
        "colab_type": "code",
        "colab": {}
      },
      "source": [
        "# log transformation\n",
        "train['EMI'] = np.log(train['EMI'])\n",
        "test['EMI'] = np.log(test['EMI'])"
      ],
      "execution_count": 150,
      "outputs": []
    },
    {
      "cell_type": "code",
      "metadata": {
        "id": "694ue4qtQ_eX",
        "colab_type": "code",
        "colab": {
          "base_uri": "https://localhost:8080/",
          "height": 312
        },
        "outputId": "adb8b31c-8d92-46ec-df7c-ff6e50e931f7"
      },
      "source": [
        "# after log transformation\n",
        "fig = plt.figure(figsize=(14,4))\n",
        "ax1 = plt.subplot(121)\n",
        "sns.distplot(train['EMI'])\n",
        "ax1.set_title(\"Train\")\n",
        "\n",
        "ax1 = plt.subplot(122)\n",
        "sns.distplot(test['EMI'])\n",
        "ax1.set_title(\"Test\")"
      ],
      "execution_count": 151,
      "outputs": [
        {
          "output_type": "execute_result",
          "data": {
            "text/plain": [
              "Text(0.5, 1.0, 'Test')"
            ]
          },
          "metadata": {
            "tags": []
          },
          "execution_count": 151
        },
        {
          "output_type": "display_data",
          "data": {
            "image/png": "[encoded data removed]",
            "text/plain": [
              "<Figure size 1008x288 with 2 Axes>"
            ]
          },
          "metadata": {
            "tags": [],
            "needs_background": "light"
          }
        }
      ]
    },
    {
      "cell_type": "code",
      "metadata": {
        "id": "DC63kbmtNYp4",
        "colab_type": "code",
        "colab": {}
      },
      "source": [
        "# create new \"Balance_Income\" variable\n",
        "train['Balance_Income'] = train['Total_Income'] - (train['EMI']*1000) # Multiply with 1000 to make the units equal \n",
        "test['Balance_Income'] = test['Total_Income'] - (test['EMI']*1000)"
      ],
      "execution_count": 152,
      "outputs": []
    },
    {
      "cell_type": "code",
      "metadata": {
        "id": "Ii0KCfs1RUQu",
        "colab_type": "code",
        "colab": {
          "base_uri": "https://localhost:8080/",
          "height": 313
        },
        "outputId": "e024d0b2-ead2-454d-e278-83f4a59249c8"
      },
      "source": [
        "# check the distribution of Balance_Income\n",
        "# before log transformation\n",
        "fig = plt.figure(figsize=(14,4))\n",
        "ax1 = plt.subplot(121)\n",
        "sns.distplot(train['Balance_Income'])\n",
        "ax1.set_title(\"Train\")\n",
        "\n",
        "ax1 = plt.subplot(122)\n",
        "sns.distplot(test['Balance_Income'])\n",
        "ax1.set_title(\"Test\")"
      ],
      "execution_count": 153,
      "outputs": [
        {
          "output_type": "execute_result",
          "data": {
            "text/plain": [
              "Text(0.5, 1.0, 'Test')"
            ]
          },
          "metadata": {
            "tags": []
          },
          "execution_count": 153
        },
        {
          "output_type": "display_data",
          "data": {
            "image/png": "[encoded data removed]",
            "text/plain": [
              "<Figure size 1008x288 with 2 Axes>"
            ]
          },
          "metadata": {
            "tags": [],
            "needs_background": "light"
          }
        }
      ]
    },
    {
      "cell_type": "code",
      "metadata": {
        "id": "jphfPLk1Nn6H",
        "colab_type": "code",
        "colab": {}
      },
      "source": [
        "# log transformation\n",
        "train['Balance_Income'] = np.log(train['Balance_Income'])\n",
        "test['Balance_Income'] = np.log(test['Balance_Income'])"
      ],
      "execution_count": 154,
      "outputs": []
    },
    {
      "cell_type": "code",
      "metadata": {
        "id": "uSo7WJVlRno4",
        "colab_type": "code",
        "colab": {
          "base_uri": "https://localhost:8080/",
          "height": 313
        },
        "outputId": "f1011973-ac2d-4996-b028-b0c5ca4f138e"
      },
      "source": [
        "# after log transformation\n",
        "fig = plt.figure(figsize=(14,4))\n",
        "ax1 = plt.subplot(121)\n",
        "sns.distplot(train['Balance_Income'])\n",
        "ax1.set_title(\"Train\")\n",
        "\n",
        "ax1 = plt.subplot(122)\n",
        "sns.distplot(test['Balance_Income'])\n",
        "ax1.set_title(\"Test\")"
      ],
      "execution_count": 155,
      "outputs": [
        {
          "output_type": "execute_result",
          "data": {
            "text/plain": [
              "Text(0.5, 1.0, 'Test')"
            ]
          },
          "metadata": {
            "tags": []
          },
          "execution_count": 155
        },
        {
          "output_type": "display_data",
          "data": {
            "image/png": "[encoded data removed]",
            "text/plain": [
              "<Figure size 1008x288 with 2 Axes>"
            ]
          },
          "metadata": {
            "tags": [],
            "needs_background": "light"
          }
        }
      ]
    },
    {
      "cell_type": "markdown",
      "metadata": {
        "id": "Mh_kBatJTrhl",
        "colab_type": "text"
      },
      "source": [
        "Ta tiếp hành xoá bỏ các biến cấu thành các biến Total_Income, EMI, Balance_Income mới tạo."
      ]
    },
    {
      "cell_type": "code",
      "metadata": {
        "id": "9KNi_4rmNxYE",
        "colab_type": "code",
        "colab": {}
      },
      "source": [
        "# drop the variables\n",
        "train = train.drop(['ApplicantIncome', 'CoapplicantIncome', 'LoanAmount', 'Loan_Amount_Term', 'Total_Income'], axis=1)\n",
        "test = test.drop(['ApplicantIncome', 'CoapplicantIncome', 'LoanAmount', 'Loan_Amount_Term', 'Total_Income'], axis=1)"
      ],
      "execution_count": 156,
      "outputs": []
    },
    {
      "cell_type": "code",
      "metadata": {
        "id": "e_D7nNY6Ny50",
        "colab_type": "code",
        "colab": {
          "base_uri": "https://localhost:8080/",
          "height": 232
        },
        "outputId": "983e08d1-cad8-417c-833d-132322fcb079"
      },
      "source": [
        "train.head()"
      ],
      "execution_count": 157,
      "outputs": [
        {
          "output_type": "execute_result",
          "data": {
            "text/html": [
              "<div>\n",
              "<style scoped>\n",
              "    .dataframe tbody tr th:only-of-type {\n",
              "        vertical-align: middle;\n",
              "    }\n",
              "\n",
              "    .dataframe tbody tr th {\n",
              "        vertical-align: top;\n",
              "    }\n",
              "\n",
              "    .dataframe thead th {\n",
              "        text-align: right;\n",
              "    }\n",
              "</style>\n",
              "<table border=\"1\" class=\"dataframe\">\n",
              "  <thead>\n",
              "    <tr style=\"text-align: right;\">\n",
              "      <th></th>\n",
              "      <th>Credit_History</th>\n",
              "      <th>Loan_Status</th>\n",
              "      <th>LoanAmount_log</th>\n",
              "      <th>Married_No</th>\n",
              "      <th>Married_Yes</th>\n",
              "      <th>Dependents_3</th>\n",
              "      <th>Dependents_0</th>\n",
              "      <th>Dependents_1</th>\n",
              "      <th>Dependents_2</th>\n",
              "      <th>Education_Graduate</th>\n",
              "      <th>Education_Not Graduate</th>\n",
              "      <th>Property_Area_Rural</th>\n",
              "      <th>Property_Area_Semiurban</th>\n",
              "      <th>Property_Area_Urban</th>\n",
              "      <th>Total_Income_log</th>\n",
              "      <th>EMI</th>\n",
              "      <th>Balance_Income</th>\n",
              "    </tr>\n",
              "  </thead>\n",
              "  <tbody>\n",
              "    <tr>\n",
              "      <th>0</th>\n",
              "      <td>1.0</td>\n",
              "      <td>1</td>\n",
              "      <td>4.852030</td>\n",
              "      <td>1</td>\n",
              "      <td>0</td>\n",
              "      <td>0</td>\n",
              "      <td>1</td>\n",
              "      <td>0</td>\n",
              "      <td>0</td>\n",
              "      <td>1</td>\n",
              "      <td>0</td>\n",
              "      <td>0</td>\n",
              "      <td>0</td>\n",
              "      <td>1</td>\n",
              "      <td>8.674026</td>\n",
              "      <td>-1.034074</td>\n",
              "      <td>8.836821</td>\n",
              "    </tr>\n",
              "    <tr>\n",
              "      <th>1</th>\n",
              "      <td>1.0</td>\n",
              "      <td>0</td>\n",
              "      <td>4.852030</td>\n",
              "      <td>0</td>\n",
              "      <td>1</td>\n",
              "      <td>0</td>\n",
              "      <td>0</td>\n",
              "      <td>1</td>\n",
              "      <td>0</td>\n",
              "      <td>1</td>\n",
              "      <td>0</td>\n",
              "      <td>1</td>\n",
              "      <td>0</td>\n",
              "      <td>0</td>\n",
              "      <td>8.714568</td>\n",
              "      <td>-1.034074</td>\n",
              "      <td>8.871375</td>\n",
              "    </tr>\n",
              "    <tr>\n",
              "      <th>2</th>\n",
              "      <td>1.0</td>\n",
              "      <td>1</td>\n",
              "      <td>4.189655</td>\n",
              "      <td>0</td>\n",
              "      <td>1</td>\n",
              "      <td>0</td>\n",
              "      <td>1</td>\n",
              "      <td>0</td>\n",
              "      <td>0</td>\n",
              "      <td>1</td>\n",
              "      <td>0</td>\n",
              "      <td>0</td>\n",
              "      <td>0</td>\n",
              "      <td>1</td>\n",
              "      <td>8.006368</td>\n",
              "      <td>-1.696449</td>\n",
              "      <td>8.454562</td>\n",
              "    </tr>\n",
              "    <tr>\n",
              "      <th>3</th>\n",
              "      <td>1.0</td>\n",
              "      <td>1</td>\n",
              "      <td>4.787492</td>\n",
              "      <td>0</td>\n",
              "      <td>1</td>\n",
              "      <td>0</td>\n",
              "      <td>1</td>\n",
              "      <td>0</td>\n",
              "      <td>0</td>\n",
              "      <td>0</td>\n",
              "      <td>1</td>\n",
              "      <td>0</td>\n",
              "      <td>0</td>\n",
              "      <td>1</td>\n",
              "      <td>8.505323</td>\n",
              "      <td>-1.098612</td>\n",
              "      <td>8.706095</td>\n",
              "    </tr>\n",
              "    <tr>\n",
              "      <th>4</th>\n",
              "      <td>1.0</td>\n",
              "      <td>1</td>\n",
              "      <td>4.948760</td>\n",
              "      <td>1</td>\n",
              "      <td>0</td>\n",
              "      <td>0</td>\n",
              "      <td>1</td>\n",
              "      <td>0</td>\n",
              "      <td>0</td>\n",
              "      <td>1</td>\n",
              "      <td>0</td>\n",
              "      <td>0</td>\n",
              "      <td>0</td>\n",
              "      <td>1</td>\n",
              "      <td>8.699515</td>\n",
              "      <td>-0.937344</td>\n",
              "      <td>8.844674</td>\n",
              "    </tr>\n",
              "  </tbody>\n",
              "</table>\n",
              "</div>"
            ],
            "text/plain": [
              "   Credit_History  Loan_Status  ...       EMI  Balance_Income\n",
              "0             1.0            1  ... -1.034074        8.836821\n",
              "1             1.0            0  ... -1.034074        8.871375\n",
              "2             1.0            1  ... -1.696449        8.454562\n",
              "3             1.0            1  ... -1.098612        8.706095\n",
              "4             1.0            1  ... -0.937344        8.844674\n",
              "\n",
              "[5 rows x 17 columns]"
            ]
          },
          "metadata": {
            "tags": []
          },
          "execution_count": 157
        }
      ]
    },
    {
      "cell_type": "markdown",
      "metadata": {
        "id": "Dxj0eOCoUDWi",
        "colab_type": "text"
      },
      "source": [
        "## **Model Building: Part 2**"
      ]
    },
    {
      "cell_type": "markdown",
      "metadata": {
        "id": "qEBKAzfsw_Db",
        "colab_type": "text"
      },
      "source": [
        "### **Logistic Regression + GridSearchCV**\n",
        "**Mô hình 2:** Ta tiếp tục sử dụng mô hình Logistic Regression để dự đoán bài toán, tuy nhiên để nâng cao hiệu suất của mô hình, ta sẽ điều chỉnh tham số mô hình phù hợp. GridSearchCV là công cụ giúp ta tìm ra các tham số tối ưu cho mô hình, được tích hợp trong thư viên sklearn. Do đó, ta sẽ áp dụng GridSearchCV cho mô hình Logistic Regression để tối ưu mô hình này."
      ]
    },
    {
      "cell_type": "code",
      "metadata": {
        "id": "xEcKu9VbUKM1",
        "colab_type": "code",
        "colab": {
          "base_uri": "https://localhost:8080/",
          "height": 319
        },
        "outputId": "a2b90bce-1a77-4746-f968-3f300c6e60bc"
      },
      "source": [
        "# import library\n",
        "from sklearn.model_selection import GridSearchCV\n",
        "\n",
        "# provide range of parameters\n",
        "paramgrid={\"C\":np.arange(0, 210, 10), \"penalty\":[\"l1\",\"l2\"], \"solver\":[\"newton-cg\", \"lbfgs\", \"liblinear\", \"sag\", \"saga\"]}\n",
        "\n",
        "# stratified 5 folds\n",
        "kf = StratifiedKFold(n_splits=5, random_state=0, shuffle=True)\n",
        "\n",
        "# drop \"Loan_Status\" and assign it to target variable\n",
        "X = train.drop('Loan_Status', axis=1)\n",
        "y = train.Loan_Status \n",
        "\n",
        "# fit the grid search model\n",
        "grid_search = GridSearchCV(LogisticRegression(), paramgrid, cv=kf)\n",
        "grid_search.fit(X, y)"
      ],
      "execution_count": 158,
      "outputs": [
        {
          "output_type": "execute_result",
          "data": {
            "text/plain": [
              "GridSearchCV(cv=StratifiedKFold(n_splits=5, random_state=0, shuffle=True),\n",
              "             error_score=nan,\n",
              "             estimator=LogisticRegression(C=1.0, class_weight=None, dual=False,\n",
              "                                          fit_intercept=True,\n",
              "                                          intercept_scaling=1, l1_ratio=None,\n",
              "                                          max_iter=100, multi_class='auto',\n",
              "                                          n_jobs=None, penalty='l2',\n",
              "                                          random_state=None, solver='lbfgs',\n",
              "                                          tol=0.0001, verbose=0,\n",
              "                                          warm_start=False),\n",
              "             iid='deprecated', n_jobs=None,\n",
              "             param_grid={'C': array([  0,  10,  20,  30,  40,  50,  60,  70,  80,  90, 100, 110, 120,\n",
              "       130, 140, 150, 160, 170, 180, 190, 200]),\n",
              "                         'penalty': ['l1', 'l2'],\n",
              "                         'solver': ['newton-cg', 'lbfgs', 'liblinear', 'sag',\n",
              "                                    'saga']},\n",
              "             pre_dispatch='2*n_jobs', refit=True, return_train_score=False,\n",
              "             scoring=None, verbose=0)"
            ]
          },
          "metadata": {
            "tags": []
          },
          "execution_count": 158
        }
      ]
    },
    {
      "cell_type": "code",
      "metadata": {
        "id": "KLTniulJ6N2Z",
        "colab_type": "code",
        "colab": {
          "base_uri": "https://localhost:8080/",
          "height": 34
        },
        "outputId": "14147b5b-6c7f-4f92-90a4-9335b61aaf30"
      },
      "source": [
        "# show best parameters of model\n",
        "grid_search.best_params_"
      ],
      "execution_count": 159,
      "outputs": [
        {
          "output_type": "execute_result",
          "data": {
            "text/plain": [
              "{'C': 100, 'penalty': 'l2', 'solver': 'newton-cg'}"
            ]
          },
          "metadata": {
            "tags": []
          },
          "execution_count": 159
        }
      ]
    },
    {
      "cell_type": "code",
      "metadata": {
        "id": "b_x4DGZ_VfjY",
        "colab_type": "code",
        "colab": {}
      },
      "source": [
        "# best model\n",
        "best_LR_model = grid_search.best_estimator_"
      ],
      "execution_count": 160,
      "outputs": []
    },
    {
      "cell_type": "code",
      "metadata": {
        "id": "DPEtV9NKXT1N",
        "colab_type": "code",
        "colab": {
          "base_uri": "https://localhost:8080/",
          "height": 605
        },
        "outputId": "20098831-b1c6-49e7-ca96-54d9c83e3d65"
      },
      "source": [
        "list_accuracy = []\n",
        "list_precision = []\n",
        "list_recall = []\n",
        "list_f1 = []\n",
        "i = 1\n",
        "\n",
        "for train_index, test_index in kf.split(X, y):\n",
        "    print('\\n{} of kfold {}'.format(i, kf.n_splits))\n",
        "    xtr, xvl = X.loc[train_index], X.loc[test_index]\n",
        "    ytr, yvl = y[train_index], y[test_index]\n",
        "    \n",
        "    model = best_LR_model\n",
        "    model.fit(xtr, ytr)\n",
        "    pred_test = model.predict(xvl)\n",
        "    \n",
        "    acc = accuracy_score(yvl, pred_test)\n",
        "    pre = precision_score(yvl, pred_test)\n",
        "    rec = recall_score(yvl, pred_test)\n",
        "    f1 = f1_score(yvl, pred_test)\n",
        "\n",
        "    list_accuracy.append(acc)\n",
        "    print('accuracy_score', acc)\n",
        "    list_precision.append(pre)\n",
        "    print('precision_score', pre)\n",
        "    list_recall.append(rec)\n",
        "    print('recall_score', rec)\n",
        "    list_f1.append(f1)\n",
        "    print('f1_score', f1)\n",
        "    i+=1\n",
        "    \n",
        "mean_acc = sum(list_accuracy)/len(list_accuracy)\n",
        "mean_pre = sum(list_precision)/len(list_precision)\n",
        "mean_rec = sum(list_recall)/len(list_recall)\n",
        "mean_f1 = sum(list_f1)/len(list_f1)\n",
        "\n",
        "print(\"\\nMean validation accuracy: \", mean_acc)\n",
        "print(\"Mean validation precision: \", mean_pre)\n",
        "print(\"Mean validation recall: \", mean_rec)\n",
        "print(\"Mean validation f1: \", mean_f1)\n",
        "\n",
        "result2 = [mean_acc, mean_pre, mean_rec, mean_f1]"
      ],
      "execution_count": 161,
      "outputs": [
        {
          "output_type": "stream",
          "text": [
            "\n",
            "1 of kfold 5\n",
            "accuracy_score 0.8211382113821138\n",
            "precision_score 0.8118811881188119\n",
            "recall_score 0.9647058823529412\n",
            "f1_score 0.881720430107527\n",
            "\n",
            "2 of kfold 5\n",
            "accuracy_score 0.8048780487804879\n",
            "precision_score 0.7850467289719626\n",
            "recall_score 0.9882352941176471\n",
            "f1_score 0.875\n",
            "\n",
            "3 of kfold 5\n",
            "accuracy_score 0.8130081300813008\n",
            "precision_score 0.7850467289719626\n",
            "recall_score 1.0\n",
            "f1_score 0.8795811518324607\n",
            "\n",
            "4 of kfold 5\n",
            "accuracy_score 0.8048780487804879\n",
            "precision_score 0.7884615384615384\n",
            "recall_score 0.9761904761904762\n",
            "f1_score 0.8723404255319148\n",
            "\n",
            "5 of kfold 5\n",
            "accuracy_score 0.8360655737704918\n",
            "precision_score 0.8137254901960784\n",
            "recall_score 0.9880952380952381\n",
            "f1_score 0.8924731182795699\n",
            "\n",
            "Mean validation accuracy:  0.8159936025589765\n",
            "Mean validation precision:  0.7968323349440707\n",
            "Mean validation recall:  0.9834453781512605\n",
            "Mean validation f1:  0.8802230251502945\n"
          ],
          "name": "stdout"
        }
      ]
    },
    {
      "cell_type": "markdown",
      "metadata": {
        "id": "Zi1GWfnVGsjr",
        "colab_type": "text"
      },
      "source": [
        "### **XGBoost Classifier + GridSearchCV**\n",
        "**Mô hình 3:** XGBoost (Extreme Gradient Boosting) là một thuật toán dựa trên cây quyết định tăng cường độ dốc (gradient boosting decision trees). XGBoost là một thuật toán nhanh và hiệu quả, đã được sử dụng bởi những người chiến thắng trong nhiều cuộc thi khoa học dữ liệu. Ở mô hình này ta sẽ sử dụng XGBoost Classifier và áp dụng GridSearchCV tìm ta các tham số phù hợp để tối ưu mô hình. "
      ]
    },
    {
      "cell_type": "code",
      "metadata": {
        "id": "w_1pWEBpOqkv",
        "colab_type": "code",
        "colab": {
          "base_uri": "https://localhost:8080/",
          "height": 319
        },
        "outputId": "6a3a7946-309d-4554-eef1-77b61d8912bd"
      },
      "source": [
        "# import library\n",
        "from xgboost import XGBClassifier\n",
        "\n",
        "# Provide range for max_depth from 1 to 20 with an interval of 2 and from 1 to 200 with an interval of 20 for n_estimators\n",
        "paramgrid = {\"max_depth\": np.arange(1, 20, 2), \"n_estimators\": np.arange(1, 200, 20), \"booster\":[\"gbtree\", \"gblinear\"], \"min_child_weight\":np.arange(1,11,1)}\n",
        "\n",
        "# stratified 5 folds\n",
        "kf = StratifiedKFold(n_splits=5, random_state=0, shuffle=True)\n",
        "\n",
        "# fit the grid search model\n",
        "grid_search = GridSearchCV(XGBClassifier(), paramgrid, cv=kf)\n",
        "grid_search.fit(X, y)"
      ],
      "execution_count": 162,
      "outputs": [
        {
          "output_type": "execute_result",
          "data": {
            "text/plain": [
              "GridSearchCV(cv=StratifiedKFold(n_splits=5, random_state=0, shuffle=True),\n",
              "             error_score=nan,\n",
              "             estimator=XGBClassifier(base_score=0.5, booster='gbtree',\n",
              "                                     colsample_bylevel=1, colsample_bynode=1,\n",
              "                                     colsample_bytree=1, gamma=0,\n",
              "                                     learning_rate=0.1, max_delta_step=0,\n",
              "                                     max_depth=3, min_child_weight=1,\n",
              "                                     missing=None, n_estimators=100, n_jobs=1,\n",
              "                                     nthread=None, objective='binary:logi...\n",
              "                                     scale_pos_weight=1, seed=None, silent=None,\n",
              "                                     subsample=1, verbosity=1),\n",
              "             iid='deprecated', n_jobs=None,\n",
              "             param_grid={'booster': ['gbtree', 'gblinear'],\n",
              "                         'max_depth': array([ 1,  3,  5,  7,  9, 11, 13, 15, 17, 19]),\n",
              "                         'min_child_weight': array([ 1,  2,  3,  4,  5,  6,  7,  8,  9, 10]),\n",
              "                         'n_estimators': array([  1,  21,  41,  61,  81, 101, 121, 141, 161, 181])},\n",
              "             pre_dispatch='2*n_jobs', refit=True, return_train_score=False,\n",
              "             scoring=None, verbose=0)"
            ]
          },
          "metadata": {
            "tags": []
          },
          "execution_count": 162
        }
      ]
    },
    {
      "cell_type": "code",
      "metadata": {
        "id": "H2HmJhZSPPf2",
        "colab_type": "code",
        "colab": {
          "base_uri": "https://localhost:8080/",
          "height": 84
        },
        "outputId": "0e3cb361-d800-4c62-87c8-6f30743b89ac"
      },
      "source": [
        "# show best parameters of model\n",
        "grid_search.best_params_"
      ],
      "execution_count": 163,
      "outputs": [
        {
          "output_type": "execute_result",
          "data": {
            "text/plain": [
              "{'booster': 'gbtree',\n",
              " 'max_depth': 3,\n",
              " 'min_child_weight': 5,\n",
              " 'n_estimators': 61}"
            ]
          },
          "metadata": {
            "tags": []
          },
          "execution_count": 163
        }
      ]
    },
    {
      "cell_type": "code",
      "metadata": {
        "id": "yyOenq0HPUwB",
        "colab_type": "code",
        "colab": {}
      },
      "source": [
        "# best model\n",
        "best_XGB_model = grid_search.best_estimator_"
      ],
      "execution_count": 164,
      "outputs": []
    },
    {
      "cell_type": "code",
      "metadata": {
        "id": "igLETi7SPZXq",
        "colab_type": "code",
        "colab": {
          "base_uri": "https://localhost:8080/",
          "height": 605
        },
        "outputId": "8ffaa264-3975-48d2-8860-59bcfdeea220"
      },
      "source": [
        "list_accuracy = []\n",
        "list_precision = []\n",
        "list_recall = []\n",
        "list_f1 = []\n",
        "i = 1\n",
        "\n",
        "for train_index, test_index in kf.split(X, y):\n",
        "    print('\\n{} of kfold {}'.format(i, kf.n_splits))\n",
        "    xtr, xvl = X.loc[train_index], X.loc[test_index]\n",
        "    ytr, yvl = y[train_index], y[test_index]\n",
        "    \n",
        "    model = best_XGB_model\n",
        "    model.fit(xtr, ytr)\n",
        "    pred_test = model.predict(xvl)\n",
        "    \n",
        "    acc = accuracy_score(yvl, pred_test)\n",
        "    pre = precision_score(yvl, pred_test)\n",
        "    rec = recall_score(yvl, pred_test)\n",
        "    f1 = f1_score(yvl, pred_test)\n",
        "\n",
        "    list_accuracy.append(acc)\n",
        "    print('accuracy_score', acc)\n",
        "    list_precision.append(pre)\n",
        "    print('precision_score', pre)\n",
        "    list_recall.append(rec)\n",
        "    print('recall_score', rec)\n",
        "    list_f1.append(f1)\n",
        "    print('f1_score', f1)\n",
        "    i+=1\n",
        "    \n",
        "mean_acc = sum(list_accuracy)/len(list_accuracy)\n",
        "mean_pre = sum(list_precision)/len(list_precision)\n",
        "mean_rec = sum(list_recall)/len(list_recall)\n",
        "mean_f1 = sum(list_f1)/len(list_f1)\n",
        "\n",
        "print(\"\\nMean validation accuracy: \", mean_acc)\n",
        "print(\"Mean validation precision: \", mean_pre)\n",
        "print(\"Mean validation recall: \", mean_rec)\n",
        "print(\"Mean validation f1: \", mean_f1)\n",
        "\n",
        "result3 = [mean_acc, mean_pre, mean_rec, mean_f1]"
      ],
      "execution_count": 165,
      "outputs": [
        {
          "output_type": "stream",
          "text": [
            "\n",
            "1 of kfold 5\n",
            "accuracy_score 0.8130081300813008\n",
            "precision_score 0.803921568627451\n",
            "recall_score 0.9647058823529412\n",
            "f1_score 0.877005347593583\n",
            "\n",
            "2 of kfold 5\n",
            "accuracy_score 0.7967479674796748\n",
            "precision_score 0.7884615384615384\n",
            "recall_score 0.9647058823529412\n",
            "f1_score 0.8677248677248677\n",
            "\n",
            "3 of kfold 5\n",
            "accuracy_score 0.8373983739837398\n",
            "precision_score 0.8076923076923077\n",
            "recall_score 1.0\n",
            "f1_score 0.8936170212765957\n",
            "\n",
            "4 of kfold 5\n",
            "accuracy_score 0.7886178861788617\n",
            "precision_score 0.79\n",
            "recall_score 0.9404761904761905\n",
            "f1_score 0.858695652173913\n",
            "\n",
            "5 of kfold 5\n",
            "accuracy_score 0.8360655737704918\n",
            "precision_score 0.8137254901960784\n",
            "recall_score 0.9880952380952381\n",
            "f1_score 0.8924731182795699\n",
            "\n",
            "Mean validation accuracy:  0.8143675862988138\n",
            "Mean validation precision:  0.8007601809954752\n",
            "Mean validation recall:  0.9715966386554623\n",
            "Mean validation f1:  0.8779032014097059\n"
          ],
          "name": "stdout"
        }
      ]
    },
    {
      "cell_type": "markdown",
      "metadata": {
        "id": "rnwJcTFmNlCk",
        "colab_type": "text"
      },
      "source": [
        "# <a name=\"\">**6. Evaluation and Prediction**</a>"
      ]
    },
    {
      "cell_type": "markdown",
      "metadata": {
        "id": "qXZXg6UPln0P",
        "colab_type": "text"
      },
      "source": [
        "## **Evaluation**\n",
        "Ta tiến hành so sánh kết quả dự đoán của 3 mô hình:\n",
        "*   Mô hình 1: Logistic Regression với tham số mặc định;\n",
        "*   Mô hình 2: Logistic Regression + tinh chỉnh tham số bằng GridSearchCV;\n",
        "*   Mô hình 3: XGBoost Classifier + tinh chỉnh tham số bằng GridSearchCV.\n",
        "\n",
        "Ta tạo Dataframe để hiển thị các kết quả độ đo đã được lưu trước đó.\n"
      ]
    },
    {
      "cell_type": "code",
      "metadata": {
        "id": "tPc6_Z3oQS8G",
        "colab_type": "code",
        "colab": {
          "base_uri": "https://localhost:8080/",
          "height": 166
        },
        "outputId": "ee18d13b-dae9-46fd-a7ce-a3981971e668"
      },
      "source": [
        "# create a dataframe to compare 3 model's score\n",
        "model = ['Deafault Logistic Regression', 'Logistic Regression + GridSearchCV', 'XGBoost Classifier + GridSearchCV']\n",
        "metrics = ['Accuracy', 'Precision', 'Recall', 'F1-score']\n",
        "compare_tb = pd.DataFrame(zip(result1, result2, result3), columns=model, index=metrics)\n",
        "compare_tb"
      ],
      "execution_count": 166,
      "outputs": [
        {
          "output_type": "execute_result",
          "data": {
            "text/html": [
              "<div>\n",
              "<style scoped>\n",
              "    .dataframe tbody tr th:only-of-type {\n",
              "        vertical-align: middle;\n",
              "    }\n",
              "\n",
              "    .dataframe tbody tr th {\n",
              "        vertical-align: top;\n",
              "    }\n",
              "\n",
              "    .dataframe thead th {\n",
              "        text-align: right;\n",
              "    }\n",
              "</style>\n",
              "<table border=\"1\" class=\"dataframe\">\n",
              "  <thead>\n",
              "    <tr style=\"text-align: right;\">\n",
              "      <th></th>\n",
              "      <th>Deafault Logistic Regression</th>\n",
              "      <th>Logistic Regression + GridSearchCV</th>\n",
              "      <th>XGBoost Classifier + GridSearchCV</th>\n",
              "    </tr>\n",
              "  </thead>\n",
              "  <tbody>\n",
              "    <tr>\n",
              "      <th>Accuracy</th>\n",
              "      <td>0.801333</td>\n",
              "      <td>0.815994</td>\n",
              "      <td>0.814368</td>\n",
              "    </tr>\n",
              "    <tr>\n",
              "      <th>Precision</th>\n",
              "      <td>0.791960</td>\n",
              "      <td>0.796832</td>\n",
              "      <td>0.800760</td>\n",
              "    </tr>\n",
              "    <tr>\n",
              "      <th>Recall</th>\n",
              "      <td>0.964510</td>\n",
              "      <td>0.983445</td>\n",
              "      <td>0.971597</td>\n",
              "    </tr>\n",
              "    <tr>\n",
              "      <th>F1-score</th>\n",
              "      <td>0.869657</td>\n",
              "      <td>0.880223</td>\n",
              "      <td>0.877903</td>\n",
              "    </tr>\n",
              "  </tbody>\n",
              "</table>\n",
              "</div>"
            ],
            "text/plain": [
              "           Deafault Logistic Regression  ...  XGBoost Classifier + GridSearchCV\n",
              "Accuracy                       0.801333  ...                           0.814368\n",
              "Precision                      0.791960  ...                           0.800760\n",
              "Recall                         0.964510  ...                           0.971597\n",
              "F1-score                       0.869657  ...                           0.877903\n",
              "\n",
              "[4 rows x 3 columns]"
            ]
          },
          "metadata": {
            "tags": []
          },
          "execution_count": 166
        }
      ]
    },
    {
      "cell_type": "markdown",
      "metadata": {
        "id": "7yTx4vhDFZ06",
        "colab_type": "text"
      },
      "source": [
        "Ta thấy các đối với các độ đo Accuracy, Recall và F1-score thì mô hình 2 (Logistic Regression + GridSearchCV) cho kết quả cao nhất, ở độ dô Precision thì mô hình 3 (XGBoost Classifier + GridSearchCV) cho kết quả cao nhất. Nhìn chung 2 mô hình này cho kết quả khá tốt và chêch lệch rất ít.\n",
        "\n",
        "Vì bộ dữ liệu này không cân bằng do đó ta không nên sử dụng Accuracy để đánh giá. \n",
        "\n",
        "Precsion ở trong bài toán này thể hiện tỉ lệ số ứng viên thực sự được duyệt khoản vay so với tổng số ứng viên được dự đoán là sẽ được phê duyệt khoản vay. Ta thấy Precision là một độ đo quan trọng vì nếu Precision thấp thì tỉ lệ ngân hàng phê duyệt khoản vay không chính xác cao. Tức là ngân hàng sẽ phê duyệt khoản vay nhiều ứng viên trong khi thực tế thì các ứng viên đó không được phê duyệt, như vậy ngân hàng sẽ gặp rủi ro tín dụng cao. \n",
        "\n",
        "Recall thể hiện trong số các ứng viên thực sự được phê duyệt, có bao nhiêu ứng viên được dự đoán là sẽ được phê duyệt khoản vay. Recall cũng là một độ đo quan trọng vì nếu Recall thấp thì ngân hàng sẽ bỏ lỡ nhiều ứng viên tiềm năng để cho vay, như vậy ngân hàng sẽ không đem lại lợi nhuận được.\n",
        "\n",
        "Vì vậy ta sẽ dụng dụng độ đo F1-score để đánh giá đánh giá 2 mô hình này. F1-score là trung bình điều hoà (harmonic mean) giữa Precision và Recall, F1-score được sử dụng khi cần sự cân bằng giữa Precision và Recall và hơn nữa F1-score cũng rất phù hợp cho bộ dữ liệu không cân bằng. \n",
        "\n",
        "Ta quyết định chọn mô hình có F1-score cao nhất là mô hình 2 để dự đoán trên tập test. "
      ]
    },
    {
      "cell_type": "markdown",
      "metadata": {
        "id": "E04xzuc2WdIY",
        "colab_type": "text"
      },
      "source": [
        "## **Prediction**\n",
        "Ta tạo biến mục tiêu Loan_Status cần dự đoán trên bộ test chưa qua chỉnh sửa. Gán giá trị được dự đoán bằng mô hình 2 cho biến đó."
      ]
    },
    {
      "cell_type": "code",
      "metadata": {
        "id": "5xtYZdPuv08J",
        "colab_type": "code",
        "colab": {}
      },
      "source": [
        "# predict Loan_Status variable of test set\n",
        "test_original['Loan_Status'] = best_LR_model.predict(test)"
      ],
      "execution_count": 170,
      "outputs": []
    },
    {
      "cell_type": "code",
      "metadata": {
        "id": "qR8owAdKzF-b",
        "colab_type": "code",
        "colab": {
          "base_uri": "https://localhost:8080/",
          "height": 232
        },
        "outputId": "396e9c3b-824a-4348-fbbf-1d7264563dba"
      },
      "source": [
        "# take a look at the top 5 rows of the test set after predicting\n",
        "test_original.head()"
      ],
      "execution_count": 183,
      "outputs": [
        {
          "output_type": "execute_result",
          "data": {
            "text/html": [
              "<div>\n",
              "<style scoped>\n",
              "    .dataframe tbody tr th:only-of-type {\n",
              "        vertical-align: middle;\n",
              "    }\n",
              "\n",
              "    .dataframe tbody tr th {\n",
              "        vertical-align: top;\n",
              "    }\n",
              "\n",
              "    .dataframe thead th {\n",
              "        text-align: right;\n",
              "    }\n",
              "</style>\n",
              "<table border=\"1\" class=\"dataframe\">\n",
              "  <thead>\n",
              "    <tr style=\"text-align: right;\">\n",
              "      <th></th>\n",
              "      <th>Loan_ID</th>\n",
              "      <th>Gender</th>\n",
              "      <th>Married</th>\n",
              "      <th>Dependents</th>\n",
              "      <th>Education</th>\n",
              "      <th>Self_Employed</th>\n",
              "      <th>ApplicantIncome</th>\n",
              "      <th>CoapplicantIncome</th>\n",
              "      <th>LoanAmount</th>\n",
              "      <th>Loan_Amount_Term</th>\n",
              "      <th>Credit_History</th>\n",
              "      <th>Property_Area</th>\n",
              "      <th>Loan_Status</th>\n",
              "    </tr>\n",
              "  </thead>\n",
              "  <tbody>\n",
              "    <tr>\n",
              "      <th>0</th>\n",
              "      <td>LP001015</td>\n",
              "      <td>Male</td>\n",
              "      <td>Yes</td>\n",
              "      <td>0</td>\n",
              "      <td>Graduate</td>\n",
              "      <td>No</td>\n",
              "      <td>5720</td>\n",
              "      <td>0</td>\n",
              "      <td>110.0</td>\n",
              "      <td>360.0</td>\n",
              "      <td>1.0</td>\n",
              "      <td>Urban</td>\n",
              "      <td>Y</td>\n",
              "    </tr>\n",
              "    <tr>\n",
              "      <th>1</th>\n",
              "      <td>LP001022</td>\n",
              "      <td>Male</td>\n",
              "      <td>Yes</td>\n",
              "      <td>1</td>\n",
              "      <td>Graduate</td>\n",
              "      <td>No</td>\n",
              "      <td>3076</td>\n",
              "      <td>1500</td>\n",
              "      <td>126.0</td>\n",
              "      <td>360.0</td>\n",
              "      <td>1.0</td>\n",
              "      <td>Urban</td>\n",
              "      <td>Y</td>\n",
              "    </tr>\n",
              "    <tr>\n",
              "      <th>2</th>\n",
              "      <td>LP001031</td>\n",
              "      <td>Male</td>\n",
              "      <td>Yes</td>\n",
              "      <td>2</td>\n",
              "      <td>Graduate</td>\n",
              "      <td>No</td>\n",
              "      <td>5000</td>\n",
              "      <td>1800</td>\n",
              "      <td>208.0</td>\n",
              "      <td>360.0</td>\n",
              "      <td>1.0</td>\n",
              "      <td>Urban</td>\n",
              "      <td>Y</td>\n",
              "    </tr>\n",
              "    <tr>\n",
              "      <th>3</th>\n",
              "      <td>LP001035</td>\n",
              "      <td>Male</td>\n",
              "      <td>Yes</td>\n",
              "      <td>2</td>\n",
              "      <td>Graduate</td>\n",
              "      <td>No</td>\n",
              "      <td>2340</td>\n",
              "      <td>2546</td>\n",
              "      <td>100.0</td>\n",
              "      <td>360.0</td>\n",
              "      <td>NaN</td>\n",
              "      <td>Urban</td>\n",
              "      <td>Y</td>\n",
              "    </tr>\n",
              "    <tr>\n",
              "      <th>4</th>\n",
              "      <td>LP001051</td>\n",
              "      <td>Male</td>\n",
              "      <td>No</td>\n",
              "      <td>0</td>\n",
              "      <td>Not Graduate</td>\n",
              "      <td>No</td>\n",
              "      <td>3276</td>\n",
              "      <td>0</td>\n",
              "      <td>78.0</td>\n",
              "      <td>360.0</td>\n",
              "      <td>1.0</td>\n",
              "      <td>Urban</td>\n",
              "      <td>Y</td>\n",
              "    </tr>\n",
              "  </tbody>\n",
              "</table>\n",
              "</div>"
            ],
            "text/plain": [
              "    Loan_ID Gender Married  ... Credit_History Property_Area Loan_Status\n",
              "0  LP001015   Male     Yes  ...            1.0         Urban           Y\n",
              "1  LP001022   Male     Yes  ...            1.0         Urban           Y\n",
              "2  LP001031   Male     Yes  ...            1.0         Urban           Y\n",
              "3  LP001035   Male     Yes  ...            NaN         Urban           Y\n",
              "4  LP001051   Male      No  ...            1.0         Urban           Y\n",
              "\n",
              "[5 rows x 13 columns]"
            ]
          },
          "metadata": {
            "tags": []
          },
          "execution_count": 183
        }
      ]
    },
    {
      "cell_type": "markdown",
      "metadata": {
        "id": "QioJjY3P_gui",
        "colab_type": "text"
      },
      "source": [
        "Thay giá trị của biến Loan_Status từ 1 - 0 thành Y - N để đúng định dạng ban đầu."
      ]
    },
    {
      "cell_type": "code",
      "metadata": {
        "id": "zM_HKu0z0ZGu",
        "colab_type": "code",
        "colab": {}
      },
      "source": [
        "# replacing 1 and 0 in Loan_Status variable with Y and N\n",
        "test_original['Loan_Status'].replace(1, 'Y', inplace=True)\n",
        "test_original['Loan_Status'].replace(0, 'N', inplace=True)"
      ],
      "execution_count": 177,
      "outputs": []
    },
    {
      "cell_type": "markdown",
      "metadata": {
        "id": "w6GBT74r_t48",
        "colab_type": "text"
      },
      "source": [
        "Xem số lượng của mỗi lớp sau khi được dự đoán."
      ]
    },
    {
      "cell_type": "code",
      "metadata": {
        "id": "lQ7lRnfazUx9",
        "colab_type": "code",
        "colab": {
          "base_uri": "https://localhost:8080/",
          "height": 67
        },
        "outputId": "b6ce0eee-e115-49c2-caa5-615195d66c64"
      },
      "source": [
        "# count of each category in that variable\n",
        "test_original['Loan_Status'].value_counts()"
      ],
      "execution_count": 179,
      "outputs": [
        {
          "output_type": "execute_result",
          "data": {
            "text/plain": [
              "Y    306\n",
              "N     61\n",
              "Name: Loan_Status, dtype: int64"
            ]
          },
          "metadata": {
            "tags": []
          },
          "execution_count": 179
        }
      ]
    },
    {
      "cell_type": "markdown",
      "metadata": {
        "id": "Xf2spmlz_6dz",
        "colab_type": "text"
      },
      "source": [
        "Cuối cùng ta lưu kết quả bộ test được dự đoán thành file .csv"
      ]
    },
    {
      "cell_type": "code",
      "metadata": {
        "id": "squYVvxr1n8W",
        "colab_type": "code",
        "colab": {}
      },
      "source": [
        "# convert to CSV file, without row index\n",
        "test_original.to_csv('LR_Prediction.csv', index=False)"
      ],
      "execution_count": 180,
      "outputs": []
    }
  ]
}